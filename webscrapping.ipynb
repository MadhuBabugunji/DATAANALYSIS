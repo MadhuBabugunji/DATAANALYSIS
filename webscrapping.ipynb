{
  "nbformat": 4,
  "nbformat_minor": 0,
  "metadata": {
    "colab": {
      "provenance": []
    },
    "kernelspec": {
      "name": "python3",
      "display_name": "Python 3"
    },
    "language_info": {
      "name": "python"
    }
  },
  "cells": [
    {
      "cell_type": "code",
      "execution_count": 3,
      "metadata": {
        "id": "y27A9fI8Aezz"
      },
      "outputs": [],
      "source": [
        "from bs4 import BeautifulSoup\n",
        "import requests\n"
      ]
    },
    {
      "cell_type": "code",
      "source": [
        "url = \"https://www.worldometers.info/world-population/india-population/\""
      ],
      "metadata": {
        "id": "nGS1Z_9SAuOP"
      },
      "execution_count": 4,
      "outputs": []
    },
    {
      "cell_type": "code",
      "source": [
        "page = requests.get(url)"
      ],
      "metadata": {
        "id": "_ZDGL_od_AKO"
      },
      "execution_count": 5,
      "outputs": []
    },
    {
      "cell_type": "code",
      "source": [
        "soup = BeautifulSoup(page.text,'html')\n",
        "print(soup)"
      ],
      "metadata": {
        "colab": {
          "base_uri": "https://localhost:8080/"
        },
        "id": "MmpV-GFkAwnz",
        "outputId": "5cdcf455-ea32-4d8c-a635-d0c39feeef04"
      },
      "execution_count": 6,
      "outputs": [
        {
          "output_type": "stream",
          "name": "stdout",
          "text": [
            "<!DOCTYPE html>\n",
            "<!--[if IE 8]> <html lang=\"en\" class=\"ie8\"> <![endif]--><!--[if IE 9]> <html lang=\"en\" class=\"ie9\"> <![endif]--><!--[if !IE]><!--><html lang=\"en\"> <!--<![endif]--> <head> <meta charset=\"utf-8\"/> <meta content=\"IE=edge\" http-equiv=\"X-UA-Compatible\"/> <meta content=\"width=device-width, initial-scale=1\" name=\"viewport\"/> <title>India Population (2024) - Worldometer</title> <meta content=\"Population of India: current, historical, and projected population, growth rate, immigration, median age, total fertility rate (TFR), population density, urbanization, urban population, country's share of world population, and global rank. Data tables, maps, charts, and live population clock\" name=\"description\"/><!-- Favicon --><link href=\"/favicon/favicon.ico\" rel=\"shortcut icon\" type=\"image/x-icon\"/><link href=\"/favicon/apple-icon-57x57.png\" rel=\"apple-touch-icon\" sizes=\"57x57\"/><link href=\"/favicon/apple-icon-60x60.png\" rel=\"apple-touch-icon\" sizes=\"60x60\"/><link href=\"/favicon/apple-icon-72x72.png\" rel=\"apple-touch-icon\" sizes=\"72x72\"/><link href=\"/favicon/apple-icon-76x76.png\" rel=\"apple-touch-icon\" sizes=\"76x76\"/><link href=\"/favicon/apple-icon-114x114.png\" rel=\"apple-touch-icon\" sizes=\"114x114\"/><link href=\"/favicon/apple-icon-120x120.png\" rel=\"apple-touch-icon\" sizes=\"120x120\"/><link href=\"/favicon/apple-icon-144x144.png\" rel=\"apple-touch-icon\" sizes=\"144x144\"/><link href=\"/favicon/apple-icon-152x152.png\" rel=\"apple-touch-icon\" sizes=\"152x152\"/><link href=\"/favicon/apple-icon-180x180.png\" rel=\"apple-touch-icon\" sizes=\"180x180\"/><link href=\"/favicon/android-icon-192x192.png\" rel=\"icon\" sizes=\"192x192\" type=\"image/png\"/><link href=\"/favicon/favicon-32x32.png\" rel=\"icon\" sizes=\"32x32\" type=\"image/png\"/><link href=\"/favicon/favicon-96x96.png\" rel=\"icon\" sizes=\"96x96\" type=\"image/png\"/><link href=\"/favicon/favicon-16x16.png\" rel=\"icon\" sizes=\"16x16\" type=\"image/png\"/><link href=\"/favicon/manifest.json\" rel=\"manifest\"/><meta content=\"#ffffff\" name=\"msapplication-TileColor\"/><meta content=\"/favicon/ms-icon-144x144.png\" name=\"msapplication-TileImage\"/><meta content=\"#ffffff\" name=\"theme-color\"/><!-- og image --><meta content=\"http://www.worldometers.info/img/worldometers-fb.jpg\" property=\"og:image\"/> <!-- Bootstrap --> <link href=\"/css/bootstrap.min.css\" rel=\"stylesheet\"/><link href=\"/wm16.css\" rel=\"stylesheet\"/><!-- font awesome --><link href=\"https://maxcdn.bootstrapcdn.com/font-awesome/4.4.0/css/font-awesome.min.css\" rel=\"stylesheet\"/> <!-- HTML5 shim and Respond.js for IE8 support of HTML5 elements and media queries --> <!--[if lt IE 9]> <script src=\"https://oss.maxcdn.com/html5shiv/3.7.2/html5shiv.min.js\"></script> <script src=\"https://oss.maxcdn.com/respond/1.4.2/respond.min.js\"></script> <![endif]--><!-- <script src=\"https://ajax.googleapis.com/ajax/libs/jquery/2.1.3/jquery.min.js\"></script>--> <script src=\"/js/jquery.min.js\"></script> <!-- Include all compiled plugins (below), or include individual files as needed --> <script src=\"/js/bootstrap.min.js\"></script> <!-- IE10 viewport hack for Surface/desktop Windows 8 bug --> <script src=\"/js/ie10-viewport-bug-workaround.js\"></script><!-- counters --><!-- Start Worldometers RTS Counters --><script type=\"text/javascript\"> var rts_configuration =\n",
            "{\n",
            "RTS_key: 'worldometers',\n",
            "RTS_keylen: 2,\n",
            "format_defaults : {\n",
            "decimalSeparator: '.',\n",
            "thousandSeparator: ','\n",
            "}\n",
            "}</script><script src=\"https://www.realtimestatistics.net/rts/RTS-pop.js\" type=\"text/javascript\"></script><!-- End Worldometers RTS Counters --><!-- pop country css --><link href=\"/css/pop-countries.css\" rel=\"stylesheet\" type=\"text/css\"/><!-- google charts --><script src=\"https://www.google.com/jsapi\" type=\"text/javascript\"></script><script><!--\n",
            "google.load('visualization', '1', {'packages':['corechart'], 'language' : 'en'});\n",
            "google.setOnLoadCallback(f_chart_pop);\n",
            "var options_chart_pop={};\n",
            "function f_chart_pop()\n",
            "{\n",
            "var dataT = new google.visualization.DataTable({cols: [{type:'date',label:'Date'},{type:'number',label:'India Population'}],\n",
            "rows:\n",
            "[\n",
            "{c:[{v:new Date(\t1950\t,6,1)},{v:\t357021100 }]},\n",
            "{c:[{v:new Date(\t1951\t,6,1)},{v:\t364922360\t}]},\n",
            "{c:[{v:new Date(\t1952\t,6,1)},{v:\t372997188\t}]},\n",
            "{c:[{v:new Date(\t1953\t,6,1)},{v:\t381227705\t}]},\n",
            "{c:[{v:new Date(\t1954\t,6,1)},{v:\t389731406\t}]},\n",
            "{c:[{v:new Date(\t1955\t,6,1)},{v:\t398577992\t}]},\n",
            "{c:[{v:new Date(\t1956\t,6,1)},{v:\t407656597\t}]},\n",
            "{c:[{v:new Date(\t1957\t,6,1)},{v:\t416935399\t}]},\n",
            "{c:[{v:new Date(\t1958\t,6,1)},{v:\t426295763\t}]},\n",
            "{c:[{v:new Date(\t1959\t,6,1)},{v:\t435900352\t}]},\n",
            "{c:[{v:new Date(\t1960\t,6,1)},{v:\t445954579\t}]},\n",
            "{c:[{v:new Date(\t1961\t,6,1)},{v:\t456351876\t}]},\n",
            "{c:[{v:new Date(\t1962\t,6,1)},{v:\t467024193\t}]},\n",
            "{c:[{v:new Date(\t1963\t,6,1)},{v:\t477933619\t}]},\n",
            "{c:[{v:new Date(\t1964\t,6,1)},{v:\t489059309\t}]},\n",
            "{c:[{v:new Date(\t1965\t,6,1)},{v:\t500114346\t}]},\n",
            "{c:[{v:new Date(\t1966\t,6,1)},{v:\t510992617\t}]},\n",
            "{c:[{v:new Date(\t1967\t,6,1)},{v:\t521987069\t}]},\n",
            "{c:[{v:new Date(\t1968\t,6,1)},{v:\t533431909\t}]},\n",
            "{c:[{v:new Date(\t1969\t,6,1)},{v:\t545314670\t}]},\n",
            "{c:[{v:new Date(\t1970\t,6,1)},{v:\t557501301\t}]},\n",
            "{c:[{v:new Date(\t1971\t,6,1)},{v:\t569999178\t}]},\n",
            "{c:[{v:new Date(\t1972\t,6,1)},{v:\t582837973\t}]},\n",
            "{c:[{v:new Date(\t1973\t,6,1)},{v:\t596107483\t}]},\n",
            "{c:[{v:new Date(\t1974\t,6,1)},{v:\t609721951\t}]},\n",
            "{c:[{v:new Date(\t1975\t,6,1)},{v:\t623524219\t}]},\n",
            "{c:[{v:new Date(\t1976\t,6,1)},{v:\t637451448\t}]},\n",
            "{c:[{v:new Date(\t1977\t,6,1)},{v:\t651685628\t}]},\n",
            "{c:[{v:new Date(\t1978\t,6,1)},{v:\t666267760\t}]},\n",
            "{c:[{v:new Date(\t1979\t,6,1)},{v:\t681248383\t}]},\n",
            "{c:[{v:new Date(\t1980\t,6,1)},{v:\t696828385\t}]},\n",
            "{c:[{v:new Date(\t1981\t,6,1)},{v:\t712869298\t}]},\n",
            "{c:[{v:new Date(\t1982\t,6,1)},{v:\t729169466\t}]},\n",
            "{c:[{v:new Date(\t1983\t,6,1)},{v:\t745826546\t}]},\n",
            "{c:[{v:new Date(\t1984\t,6,1)},{v:\t762895156\t}]},\n",
            "{c:[{v:new Date(\t1985\t,6,1)},{v:\t780242084\t}]},\n",
            "{c:[{v:new Date(\t1986\t,6,1)},{v:\t797878993\t}]},\n",
            "{c:[{v:new Date(\t1987\t,6,1)},{v:\t815716125\t}]},\n",
            "{c:[{v:new Date(\t1988\t,6,1)},{v:\t833729681\t}]},\n",
            "{c:[{v:new Date(\t1989\t,6,1)},{v:\t852012673\t}]},\n",
            "{c:[{v:new Date(\t1990\t,6,1)},{v:\t870452165\t}]},\n",
            "{c:[{v:new Date(\t1991\t,6,1)},{v:\t888941756\t}]},\n",
            "{c:[{v:new Date(\t1992\t,6,1)},{v:\t907574049\t}]},\n",
            "{c:[{v:new Date(\t1993\t,6,1)},{v:\t926351297\t}]},\n",
            "{c:[{v:new Date(\t1994\t,6,1)},{v:\t945261958\t}]},\n",
            "{c:[{v:new Date(\t1995\t,6,1)},{v:\t964279129\t}]},\n",
            "{c:[{v:new Date(\t1996\t,6,1)},{v:\t983281218\t}]},\n",
            "{c:[{v:new Date(\t1997\t,6,1)},{v:\t1002335230\t}]},\n",
            "{c:[{v:new Date(\t1998\t,6,1)},{v:\t1021434576\t}]},\n",
            "{c:[{v:new Date(\t1999\t,6,1)},{v:\t1040500054\t}]},\n",
            "{c:[{v:new Date(\t2000\t,6,1)},{v:\t1059633675\t}]},\n",
            "{c:[{v:new Date(\t2001\t,6,1)},{v:\t1078970907\t}]},\n",
            "{c:[{v:new Date(\t2002\t,6,1)},{v:\t1098313039\t}]},\n",
            "{c:[{v:new Date(\t2003\t,6,1)},{v:\t1117415123\t}]},\n",
            "{c:[{v:new Date(\t2004\t,6,1)},{v:\t1136264583\t}]},\n",
            "{c:[{v:new Date(\t2005\t,6,1)},{v:\t1154638713\t}]},\n",
            "{c:[{v:new Date(\t2006\t,6,1)},{v:\t1172373788\t}]},\n",
            "{c:[{v:new Date(\t2007\t,6,1)},{v:\t1189691809\t}]},\n",
            "{c:[{v:new Date(\t2008\t,6,1)},{v:\t1206734806\t}]},\n",
            "{c:[{v:new Date(\t2009\t,6,1)},{v:\t1223640160\t}]},\n",
            "{c:[{v:new Date(\t2010\t,6,1)},{v:\t1240613620\t}]},\n",
            "{c:[{v:new Date(\t2011\t,6,1)},{v:\t1257621191\t}]},\n",
            "{c:[{v:new Date(\t2012\t,6,1)},{v:\t1274487215\t}]},\n",
            "{c:[{v:new Date(\t2013\t,6,1)},{v:\t1291132063\t}]},\n",
            "{c:[{v:new Date(\t2014\t,6,1)},{v:\t1307246509\t}]},\n",
            "{c:[{v:new Date(\t2015\t,6,1)},{v:\t1322866505\t}]},\n",
            "{c:[{v:new Date(\t2016\t,6,1)},{v:\t1338636340\t}]},\n",
            "{c:[{v:new Date(\t2017\t,6,1)},{v:\t1354195680\t}]},\n",
            "{c:[{v:new Date(\t2018\t,6,1)},{v:\t1369003306\t}]},\n",
            "{c:[{v:new Date(\t2019\t,6,1)},{v:\t1383112050\t}]},\n",
            "{c:[{v:new Date(\t2020\t,6,1)},{v:\t1396387127\t}]},\n",
            "{c:[{v:new Date(\t2021\t,6,1)},{v:\t1407563842\t}]},\n",
            "{c:[{v:new Date(\t2022\t,6,1)},{v:\t1417173173\t}]},\n",
            "{c:[{v:new Date(\t2023\t,6,1)},{v:\t1428627663\t}]},\t{c:[{v:new Date(\t2024\t,6,1)},{v:\t1441719852\t}]}\n",
            "]});\n",
            "var mYF0=new google.visualization.DateFormat({pattern: 'yyyy'});\n",
            "mYF0.format(dataT, 0);\n",
            "var mNF1 = new google.visualization.NumberFormat({fractionDigits:0});\n",
            "mNF1.format(dataT, 1);\n",
            "var data = new google.visualization.DataView(dataT);\n",
            "options_chart_pop['theme']='maximized';\n",
            "options_chart_pop['hAxis']={gridlines:{color: '#eee'}};\n",
            "options_chart_pop['vAxis']={minValue:0};\n",
            "options_chart_pop['curveType']='function';\n",
            "options_chart_pop['focusTarget']='category';\n",
            "options_chart_pop['title']='';\n",
            "var chart = new google.visualization.LineChart(document.getElementById('chart_pop'));\n",
            "chart.draw(data, options_chart_pop);\n",
            "}\n",
            "--></script><script><!--\n",
            "google.load('visualization', '1', {'packages':['corechart'], 'language' : 'en'});\n",
            "google.setOnLoadCallback(f_chart_pop_rate);\n",
            "var options_chart_pop_rate={};\n",
            "function f_chart_pop_rate()\n",
            "{\n",
            "var dataT = new google.visualization.DataTable({cols: [{type:'date',label:'Date'},{type:'number',label:'Yearly Growth Rate (%)'}],\n",
            "rows:\n",
            "[\n",
            "{c:[{v:new Date(\t1951\t,6,1)},{v:\t2.21\t}]},\n",
            "{c:[{v:new Date(\t1952\t,6,1)},{v:\t2.21\t}]},\n",
            "{c:[{v:new Date(\t1953\t,6,1)},{v:\t2.21\t}]},\n",
            "{c:[{v:new Date(\t1954\t,6,1)},{v:\t2.23\t}]},\n",
            "{c:[{v:new Date(\t1955\t,6,1)},{v:\t2.27\t}]},\n",
            "{c:[{v:new Date(\t1956\t,6,1)},{v:\t2.28\t}]},\n",
            "{c:[{v:new Date(\t1957\t,6,1)},{v:\t2.28\t}]},\n",
            "{c:[{v:new Date(\t1958\t,6,1)},{v:\t2.25\t}]},\n",
            "{c:[{v:new Date(\t1959\t,6,1)},{v:\t2.25\t}]},\n",
            "{c:[{v:new Date(\t1960\t,6,1)},{v:\t2.31\t}]},\n",
            "{c:[{v:new Date(\t1961\t,6,1)},{v:\t2.33\t}]},\n",
            "{c:[{v:new Date(\t1962\t,6,1)},{v:\t2.34\t}]},\n",
            "{c:[{v:new Date(\t1963\t,6,1)},{v:\t2.34\t}]},\n",
            "{c:[{v:new Date(\t1964\t,6,1)},{v:\t2.33\t}]},\n",
            "{c:[{v:new Date(\t1965\t,6,1)},{v:\t2.26\t}]},\n",
            "{c:[{v:new Date(\t1966\t,6,1)},{v:\t2.18\t}]},\n",
            "{c:[{v:new Date(\t1967\t,6,1)},{v:\t2.15\t}]},\n",
            "{c:[{v:new Date(\t1968\t,6,1)},{v:\t2.19\t}]},\n",
            "{c:[{v:new Date(\t1969\t,6,1)},{v:\t2.23\t}]},\n",
            "{c:[{v:new Date(\t1970\t,6,1)},{v:\t2.23\t}]},\n",
            "{c:[{v:new Date(\t1971\t,6,1)},{v:\t2.24\t}]},\n",
            "{c:[{v:new Date(\t1972\t,6,1)},{v:\t2.25\t}]},\n",
            "{c:[{v:new Date(\t1973\t,6,1)},{v:\t2.28\t}]},\n",
            "{c:[{v:new Date(\t1974\t,6,1)},{v:\t2.28\t}]},\n",
            "{c:[{v:new Date(\t1975\t,6,1)},{v:\t2.26\t}]},\n",
            "{c:[{v:new Date(\t1976\t,6,1)},{v:\t2.23\t}]},\n",
            "{c:[{v:new Date(\t1977\t,6,1)},{v:\t2.23\t}]},\n",
            "{c:[{v:new Date(\t1978\t,6,1)},{v:\t2.24\t}]},\n",
            "{c:[{v:new Date(\t1979\t,6,1)},{v:\t2.25\t}]},\n",
            "{c:[{v:new Date(\t1980\t,6,1)},{v:\t2.29\t}]},\n",
            "{c:[{v:new Date(\t1981\t,6,1)},{v:\t2.3\t}]},\n",
            "{c:[{v:new Date(\t1982\t,6,1)},{v:\t2.29\t}]},\n",
            "{c:[{v:new Date(\t1983\t,6,1)},{v:\t2.28\t}]},\n",
            "{c:[{v:new Date(\t1984\t,6,1)},{v:\t2.29\t}]},\n",
            "{c:[{v:new Date(\t1985\t,6,1)},{v:\t2.27\t}]},\n",
            "{c:[{v:new Date(\t1986\t,6,1)},{v:\t2.26\t}]},\n",
            "{c:[{v:new Date(\t1987\t,6,1)},{v:\t2.24\t}]},\n",
            "{c:[{v:new Date(\t1988\t,6,1)},{v:\t2.21\t}]},\n",
            "{c:[{v:new Date(\t1989\t,6,1)},{v:\t2.19\t}]},\n",
            "{c:[{v:new Date(\t1990\t,6,1)},{v:\t2.16\t}]},\n",
            "{c:[{v:new Date(\t1991\t,6,1)},{v:\t2.12\t}]},\n",
            "{c:[{v:new Date(\t1992\t,6,1)},{v:\t2.1\t}]},\n",
            "{c:[{v:new Date(\t1993\t,6,1)},{v:\t2.07\t}]},\n",
            "{c:[{v:new Date(\t1994\t,6,1)},{v:\t2.04\t}]},\n",
            "{c:[{v:new Date(\t1995\t,6,1)},{v:\t2.01\t}]},\n",
            "{c:[{v:new Date(\t1996\t,6,1)},{v:\t1.97\t}]},\n",
            "{c:[{v:new Date(\t1997\t,6,1)},{v:\t1.94\t}]},\n",
            "{c:[{v:new Date(\t1998\t,6,1)},{v:\t1.91\t}]},\n",
            "{c:[{v:new Date(\t1999\t,6,1)},{v:\t1.87\t}]},\n",
            "{c:[{v:new Date(\t2000\t,6,1)},{v:\t1.84\t}]},\n",
            "{c:[{v:new Date(\t2001\t,6,1)},{v:\t1.82\t}]},\n",
            "{c:[{v:new Date(\t2002\t,6,1)},{v:\t1.79\t}]},\n",
            "{c:[{v:new Date(\t2003\t,6,1)},{v:\t1.74\t}]},\n",
            "{c:[{v:new Date(\t2004\t,6,1)},{v:\t1.69\t}]},\n",
            "{c:[{v:new Date(\t2005\t,6,1)},{v:\t1.62\t}]},\n",
            "{c:[{v:new Date(\t2006\t,6,1)},{v:\t1.54\t}]},\n",
            "{c:[{v:new Date(\t2007\t,6,1)},{v:\t1.48\t}]},\n",
            "{c:[{v:new Date(\t2008\t,6,1)},{v:\t1.43\t}]},\n",
            "{c:[{v:new Date(\t2009\t,6,1)},{v:\t1.4\t}]},\n",
            "{c:[{v:new Date(\t2010\t,6,1)},{v:\t1.39\t}]},\n",
            "{c:[{v:new Date(\t2011\t,6,1)},{v:\t1.37\t}]},\n",
            "{c:[{v:new Date(\t2012\t,6,1)},{v:\t1.34\t}]},\n",
            "{c:[{v:new Date(\t2013\t,6,1)},{v:\t1.31\t}]},\n",
            "{c:[{v:new Date(\t2014\t,6,1)},{v:\t1.25\t}]},\n",
            "{c:[{v:new Date(\t2015\t,6,1)},{v:\t1.19\t}]},\n",
            "{c:[{v:new Date(\t2016\t,6,1)},{v:\t1.19\t}]},\n",
            "{c:[{v:new Date(\t2017\t,6,1)},{v:\t1.16\t}]},\n",
            "{c:[{v:new Date(\t2018\t,6,1)},{v:\t1.09\t}]},\n",
            "{c:[{v:new Date(\t2019\t,6,1)},{v:\t1.03\t}]},\n",
            "{c:[{v:new Date(\t2020\t,6,1)},{v:\t0.96\t}]},\n",
            "{c:[{v:new Date(\t2021\t,6,1)},{v:\t0.8\t}]},\n",
            "{c:[{v:new Date(\t2022\t,6,1)},{v:\t0.68\t}]},\n",
            "{c:[{v:new Date(\t2023\t,6,1)},{v:\t0.81\t}]},\t{c:[{v:new Date(\t2024\t,6,1)},{v:\t0.92\t}]}\n",
            "]});\n",
            "var mYF0=new google.visualization.DateFormat({pattern: 'yyyy'});\n",
            "mYF0.format(dataT, 0);\n",
            "options_chart_pop_rate['hAxis']={format:'#,##%'};\n",
            "var data = new google.visualization.DataView(dataT);\n",
            "options_chart_pop_rate['theme']='maximized';\n",
            "options_chart_pop_rate['hAxis']={gridlines:{color: '#eee'}};\n",
            "options_chart_pop_rate['vAxis']={minValue:0};\n",
            "options_chart_pop_rate['curveType']='function';\n",
            "options_chart_pop_rate['focusTarget']='category';\n",
            "var chart = new google.visualization.LineChart(document.getElementById('chart_pop_rate'));\n",
            "chart.draw(data, options_chart_pop_rate);\n",
            "}\n",
            "--></script><script src=\"https://code.highcharts.com/highcharts.js\"></script></head><body><!-- Google tag (gtag.js) --><script async=\"\" src=\"https://www.googletagmanager.com/gtag/js?id=G-ZDP3BFSX60\"></script><script> window.dataLayer = window.dataLayer || []; function gtag(){dataLayer.push(arguments);} gtag('js', new Date()); gtag('config', 'G-ZDP3BFSX60');</script><script async=\"\" crossorigin=\"anonymous\" src=\"https://pagead2.googlesyndication.com/pagead/js/adsbygoogle.js?client=ca-pub-3701697624350410\"></script><style type=\"text/css\"> .style1 { color: #666666 }</style><div class=\"navbar navbar-default\"> <div class=\"container\"> <div class=\"navbar-header\"> <div class=\"logo\"><a class=\"navbar-brand\" href=\"/\"><img border=\"0\" src=\"/img/worldometers-logo.gif\" title=\"Worldometer\"/></a></div> <button class=\"navbar-toggle\" data-target=\"#navbar-main\" data-toggle=\"collapse\" type=\"button\"> <span class=\"icon-bar\"></span> <span class=\"icon-bar\"></span> <span class=\"icon-bar\"></span> </button> </div> <div class=\"navbar-collapse collapse\" id=\"navbar-main\"> <ul class=\"nav navbar-nav\"> <li><a href=\"/coronavirus/\">Coronavirus</a></li> <li><a href=\"/population/\">Population</a></li> </ul> </div> </div></div><!-- MAIN --><div class=\"container\"><!-- TOP AD --><div class=\"row\"><div style=\"padding-top:15px; padding-bottom:15px; text-align:center;\"><script async=\"\" crossorigin=\"anonymous\" src=\"https://pagead2.googlesyndication.com/pagead/js/adsbygoogle.js?client=ca-pub-3701697624350410\"></script><!-- wm-top-24 --><ins class=\"adsbygoogle\" data-ad-client=\"ca-pub-3701697624350410\" data-ad-format=\"auto\" data-ad-slot=\"5369103488\" data-full-width-responsive=\"true\" style=\"display:block\"></ins><script> (adsbygoogle = window.adsbygoogle || []).push({});</script></div></div><!-- TOP AD --><!-- MAIN --><!-- LEFT (only desktop) --><div class=\"row\"> <div class=\"col-md-2 hidden-sm hidden-xs col-wm-left-ad\"> <!-- CENTER --></div><div class=\"col-md-6\"> <!-- *** CONTENT A *** --><div class=\"content\"><ul class=\"breadcrumb\"> <li><a href=\"/\">W</a></li><li><a href=\"/population/\">Population</a></li> <li><a href=\"/population/world/\">World</a></li><li><a href=\"/population/asia/\">Asia</a></li><li><a href=\"/population/asia/southern-asia/\">Southern Asia</a></li><li class=\"active\">India</li></ul> <!-- MAIN COUNTER --> <div id=\"maincounter-wrap\"> <h1> India Population <span class=\"live\">(LIVE)</span></h1> <div class=\"maincounter-number\"> <span class=\"rts-counter\" rel=\"india-population\">retrieving data... </span></div> </div><!-- MAIN COUNTER --><!-- CHARTS --><div class=\"charts-wrap\"> <table border=\"0\" cellpadding=\"0\" width=\"100%\"> <tr> <td> <div class=\"chart-header\">India Population (1950 - 2024)</div> <div class=\"chart-pop\" id=\"chart_pop\"></div></td> </tr> <tr> <td><div class=\"chart-header\">Yearly Population Growth Rate (%) </div> <div class=\"chart-pop-rate\" id=\"chart_pop_rate\"></div></td> </tr> </table></div><!-- CHARTS --></div><!-- *** CONTENT A *** --><!-- RIGHT --></div><div class=\"col-md-4 adright\"></div></div><!-- /RIGHT --><!-- c --><div class=\"row\"><div class=\"col-md-12\"><!-- content c --><div class=\"content-inner\"> <style type=\"text/css\"><!--\n",
            ".style1 {font-weight: bold}\n",
            "--></style> <div class=\"col-md-4 country-map-wrap\"> </div> <div class=\"col-md-8 country-pop-description\" style=\"margin-top:20px \"><ul> <li>The current population of <strong>India</strong> is <strong>1,437,411,363</strong> as of Sunday, March 3, 2024, based on Worldometer elaboration of the latest United Nations data <sup>1</sup>.</li> <li><span style=\"text-transform:capitalize\">India</span> 2023 population is estimated at <strong>1,428,627,663 </strong>people at mid year.</li> <li><span style=\"text-transform:capitalize\">India</span> population is equivalent to <strong>17.76%</strong> of the <a href=\"/world-population/\">total world population</a>.</li><li><span style=\"text-transform:capitalize\">India</span> ranks number <strong>1</strong> in the list of <a href=\"/world-population/population-by-country/\">countries (and dependencies) by population</a>.</li><li>The population density in India is 481 per Km<sup>2</sup> (1,244 people per mi<sup>2</sup>).</li><li>The total <strong>land</strong> area is 2,973,190 Km2 (1,147,955 sq. miles)</li><li><strong>36.3 %</strong> of the population is <strong>urban</strong> (518,239,122 people in 2023)</li><li>The <strong>median age</strong> in India is <strong>28.2 years</strong>.<br/></li> </ul><div class=\"source-table-elab\"> 1. Updated on July 16, 2023 with the latest July 2023-July 2024 estimates from the United Nations, Department of Economic and Social Affairs, Population Division. <a href=\"https://population.un.org/wpp/\">World Population Prospects: The 2022 Revision</a>. (Medium-fertility variant).</div> </div> <div style=\"clear:both; margin-bottom:30px\"></div><!-- Tag ID: worldometers_728x90_970x90_BTF --><div align=\"center\" id=\"worldometers_728x90_970x90_BTF\"><script data-cfasync=\"false\" type=\"text/javascript\"> freestar.config.enabled_slots.push({ placementName: \"worldometers_728x90_970x90_BTF\", slotId: \"worldometers_728x90_970x90_BTF\" });</script></div><h2>Population of India (2024 and historical)</h2><div class=\"table-responsive\"> <table class=\"table table-striped table-bordered table-hover table-condensed table-list\"><thead> <tr> <th>Year</th><th>Population</th><th>Yearly % <br/> Change</th><th>Yearly<br/> Change</th><th>Migrants (net)</th><th>Median Age</th><th>Fertility Rate</th><th>Density (P/Km²)</th><th>Urban<br/> Pop %</th><th>Urban Population</th><th>Country's Share of<br/> World Pop</th><th>World Population</th><th>India<br/>Global Rank</th></tr></thead><tbody> <tr> <td>2024</td> <td><strong>1,441,719,852</strong></td> <td>0.92 %</td> <td>13,092,189</td> <td>-486,784</td> <td>28.6</td> <td>1.98</td> <td>485</td> <td>36.8 %</td> <td>530,387,142</td> <td>17.76 %</td> <td>8,118,835,999</td> <td>1</td> </tr> <tr> <td>2023</td> <td><strong>1,428,627,663</strong></td> <td>0.81 %</td> <td>11,454,490</td> <td>-486,136</td> <td>28.2</td> <td>2.00</td> <td>481</td> <td>36.3 %</td> <td>518,239,122</td> <td>17.76 %</td> <td>8,045,311,447</td> <td>1</td> </tr> <tr> <td>2022</td> <td><strong>1,417,173,173</strong></td> <td>0.68 %</td> <td>9,609,331</td> <td>-487,303</td> <td>27.9</td> <td>2.01</td> <td>477</td> <td>35.7 %</td> <td>506,304,869</td> <td>17.77 %</td> <td>7,975,105,156</td> <td>2</td> </tr> <tr> <td>2020</td> <td><strong>1,396,387,127</strong></td> <td>0.96 %</td> <td>13,275,077</td> <td>-34,772</td> <td>27.3</td> <td>2.05</td> <td>470</td> <td>34.6 %</td> <td>483,098,640</td> <td>17.81 %</td> <td>7,840,952,880</td> <td>2</td> </tr><tr> <td>2015</td> <td><strong>1,322,866,505</strong></td> <td>1.29 %</td> <td>16,450,577</td> <td>-475,094</td> <td>25.5</td> <td>2.29</td> <td>445</td> <td>32.4 %</td> <td>429,069,459</td> <td>17.81 %</td> <td>7,426,597,537</td> <td>2</td> </tr><tr> <td>2010</td> <td><strong>1,240,613,620</strong></td> <td>1.45 %</td> <td>17,194,981</td> <td>-380,087</td> <td>24.0</td> <td>2.60</td> <td>417</td> <td>30.7 %</td> <td>380,744,554</td> <td>17.76 %</td> <td>6,985,603,105</td> <td>2</td></tr><tr> <td>2005</td> <td><strong>1,154,638,713</strong></td> <td>1.73 %</td> <td>19,001,008</td> <td>-550,186</td> <td>22.6</td> <td>2.96</td> <td>388</td> <td>29.0 %</td> <td>334,479,406</td> <td>17.61 %</td> <td>6,558,176,119</td> <td>2</td> </tr><tr> <td>2000</td> <td><strong>1,059,633,675</strong></td> <td>1.90 %</td> <td>19,070,909</td><td>-149,966</td> <td>21.6</td> <td>3.35</td> <td>356</td> <td>27.5 %</td> <td>291,350,282</td> <td>17.23 %</td> <td>6,148,898,975</td> <td>2</td></tr><tr> <td>1995</td> <td><strong>964,279,129</strong></td> <td>2.07 %</td> <td>18,765,393</td> <td>-57,139</td> <td>20.7</td> <td>3.65</td> <td>324</td> <td>26.5 %</td> <td>255,558,824</td> <td>16.79 %</td> <td>5,743,219,454</td> <td>2</td></tr><tr> <td>1990</td> <td><strong>870,452,165</strong></td> <td>2.21 %</td> <td>18,042,016</td> <td>108,465</td> <td>20.0</td> <td>4.05</td> <td>293</td> <td>25.5 %</td> <td>222,296,728</td> <td>16.37 %</td> <td>5,316,175,862</td> <td>2</td></tr><tr> <td>1985</td> <td><strong>780,242,084</strong></td> <td>2.29 %</td> <td>16,682,740</td> <td>-112,781</td> <td>19.5</td> <td>4.43</td> <td>262</td> <td>24.4 %</td> <td>190,321,782</td> <td>16.05 %</td> <td>4,861,730,613</td> <td>2</td></tr><tr> <td>1980</td> <td><strong>696,828,385</strong></td> <td>2.25 %</td> <td>14,660,833</td> <td>202,323</td> <td>19.0</td> <td>4.78</td> <td>234</td> <td>23.1 %</td> <td>160,941,941</td> <td>15.68 %</td> <td>4,444,007,706</td> <td>2</td></tr><tr> <td>1975</td> <td><strong>623,524,219</strong></td> <td>2.26 %</td> <td>13,204,584</td> <td>-225,989</td> <td>18.6</td> <td>5.20</td> <td>210</td> <td>21.3 %</td> <td>132,533,810</td> <td>15.32 %</td> <td>4,069,437,231</td> <td>2</td></tr><tr> <td>1970</td> <td><strong>557,501,301</strong></td> <td>2.20 %</td> <td>11,477,391</td> <td>-45,792</td> <td>18.3</td> <td>5.62</td> <td>188</td> <td>19.6 %</td> <td>109,388,950</td> <td>15.09 %</td> <td>3,695,390,336</td> <td>2</td></tr><tr> <td>1965</td> <td><strong>500,114,346</strong></td> <td>2.32 %</td> <td>10,831,953</td> <td>19,077</td> <td>18.5</td> <td>5.94</td> <td>168</td> <td>18.7 %</td> <td>93,493,844</td> <td>14.99 %</td> <td>3,337,111,983</td> <td>2</td></tr><tr> <td>1960</td> <td><strong>445,954,579</strong></td> <td>2.27 %</td> <td>9,475,317</td> <td>52,264</td> <td>19.2</td> <td>5.92</td> <td>150</td> <td>18.1 %</td> <td>80,565,723</td> <td>14.77 %</td> <td>3,019,233,434</td> <td>2</td></tr><tr> <td>1955</td> <td><strong>398,577,992</strong></td> <td>2.23 %</td> <td>8,311,378</td> <td>-115,107</td> <td>19.7</td> <td>5.91</td> <td>134</td> <td>18.1 %</td> <td>71,958,495</td> <td>14.51 %</td> <td>2,746,072,141</td> <td>2</td></tr></tbody></table> </div> <div class=\"source-table\">Source: <strong>Worldometer</strong> (<a href=\"/\">www.Worldometers.info</a>) <div class=\"source-table-elab\">Elaboration of data by United Nations, Department of Economic and Social Affairs, Population Division. <a href=\"https://population.un.org/wpp/\">World Population Prospects: The 2022 Revision</a>. (Medium-fertility variant).</div> <div class=\"source-table-elab\"></div> </div><div align=\"right\"><a class=\"morelink\" href=\"#\">back to top ↑</a></div><br/><h2>India Population Forecast</h2><div class=\"table-responsive\" style=\"clear:both \"> -495,884 <table class=\"table table-striped table-bordered table-hover table-condensed table-list\"><thead> <tr> <th>Year</th><th>Population</th><th>Yearly % <br/> Change</th><th>Yearly<br/> Change</th><th>Migrants (net)</th><th>Median Age</th><th>Fertility Rate</th><th>Density (P/Km²)</th><th>Urban<br/> Pop %</th><th>Urban Population</th><th>Country's Share of<br/> World Pop</th><th>World Population</th><th>India<br/>Global Rank</th> </tr></thead><tbody> <tr> <td>2025</td> <td><strong>1,454,606,724</strong></td> <td>0.82 %</td> <td>11,643,919</td> <td>-486,077</td> <td>29.0</td> <td>1.97</td> <td>489</td> <td>37.3 %</td> <td>542,742,539</td> <td>17.76 %</td> <td>8,191,988,453</td> <td>1</td></tr><tr> <td>2030</td> <td><strong>1,514,994,080</strong></td> <td>0.82 %</td> <td>12,077,471</td> <td>-486,942</td> <td>30.9</td> <td>1.91</td> <td>510</td> <td>40.1 %</td> <td>607,341,981</td> <td>17.73 %</td> <td>8,546,141,327</td> <td>1</td></tr><tr> <td>2035</td> <td><strong>1,567,802,259</strong></td> <td>0.69 %</td> <td>10,561,636</td> <td>-496,692</td> <td>32.8</td> <td>1.86</td> <td>527</td> <td>43.1 %</td> <td>675,456,367</td> <td>17.66 %</td> <td>8,879,397,401</td> <td>1</td></tr><tr> <td>2040</td> <td><strong>1,611,676,333</strong></td> <td>0.55 %</td> <td>8,774,815</td> <td>-496,507</td> <td>34.6</td> <td>1.83</td> <td>542</td> <td>46.2 %</td> <td>744,380,367</td> <td>17.54 %</td> <td>9,188,250,492</td> <td>1</td></tr><tr> <td>2045</td> <td><strong>1,645,863,187</strong></td> <td>0.42 %</td> <td>6,837,371</td> <td>-495,892</td> <td>36.4</td> <td>1.81</td> <td>554</td> <td>49.3 %</td> <td>811,749,463</td> <td>17.38 %</td> <td>9,467,543,575</td> <td>1</td></tr><tr> <td>2050</td> <td><strong>1,670,490,596</strong></td> <td>0.30 %</td> <td>4,925,482</td> <td> </td> <td>38.1</td> <td>1.78</td> <td>562</td> <td>52.5 %</td> <td>876,613,025</td> <td>17.20 %</td> <td>9,709,491,761</td> <td>1</td></tr></tbody> </table> </div> <div class=\"source-table\">Source: <strong>Worldometer</strong> (<a href=\"/\">www.Worldometers.info</a>) <div class=\"source-table-elab\">Elaboration of data by United Nations, Department of Economic and Social Affairs, Population Division. <a href=\"https://esa.un.org/unpd/wpp/\"></a><a href=\"https://population.un.org/wpp/\">World Population Prospects: The 2022 Revision</a>. (Medium-fertility variant).</div> <div class=\"source-table-elab\"></div></div> <style type=\"text/css\"><!--\n",
            ".style1 {font-size: 18px}\n",
            "--> </style> <h1>India Demographics</h1> <div style=\"padding-left:30px; margin-bottom:30px \"><em>Main Page: <a href=\"/demographics/india-demographics/\"><strong>Demographics of India</strong></a></em></div> <div class=\"linkbar\"> <div id=\"linkbar\"></div></div> <div class=\"row\" style=\"margin-top:50px\"><div class=\"col-md-4\"><div class=\"panel panel-default\"><div class=\"panel-heading\" style=\"text-align:center\"><span class=\"panel-title\" style=\"font-size:19px; text-transform:uppercase; font-weight:100\"><span aria-hidden=\"true\" class=\"glyphicon glyphicon-hourglass\"></span>\tLife Expectancy</span> </div><div class=\"panel-body\" style=\"text-align:center\"><span style=\"font-size:22px; font-weight:bold;\">72.03 years</span><div>(life expectancy at birth, both sexes)<br/><a href=\"/demographics/india-demographics/#life-exp\">View by sex and historical chart</a> <!-- PIE CHART ROW --> </div></div></div></div><div class=\"col-md-4\"><div class=\"panel panel-default\"><div class=\"panel-heading\" style=\"text-align:center\"><span class=\"panel-title\" style=\"font-size:19px; text-transform:uppercase; font-weight:100\"><span aria-hidden=\"true\" class=\"glyphicon glyphicon-baby-formula\"></span>\tInfant Mortality</span> </div><div class=\"panel-body\" style=\"text-align:center\"><span style=\"font-size:22px; font-weight:bold;\">24.5</span><div>(infant deaths per 1,000 live births)<br/><a href=\"/demographics/india-demographics/#u5-infa-title\">View historical chart</a></div></div></div></div><div class=\"col-md-4\"><div class=\"panel panel-default\"><div class=\"panel-heading\" style=\"text-align:center\"><span class=\"panel-title\" style=\"font-size:19px; text-transform:uppercase; font-weight:100\"><span aria-hidden=\"true\" class=\"glyphicon glyphicon-plus\"></span> Deaths under age 5</span> </div><div class=\"panel-body\" style=\"text-align:center\"><span style=\"font-size:22px; font-weight:bold;\">30.5</span><div> (per 1,000 live births)<br/><a href=\"/demographics/india-demographics/#u5-infa-title\">View historical chart</a><script data-cfasync=\"false\" type=\"text/javascript\">freestar.queue.push(function () { googletag.display('Worldometers_728x90_incontent_2'); }); </script> </div></div></div></div></div><div style=\"margin-top:50px; margin-bottom:50px;\"></div><!-- FREESTAR --> <h2>Main Cities by Population in India</h2><p>(includes boroughs, districts, urban agglomerations, etc.)</p> <div class=\"table-responsive\" style=\"clear:both; width:100%; max-width:500px \"> <table class=\"table table-hover table-condensed table-list\"> <thead> <tr style=\"background-color:#F8F8F8;\"> <th style=\"width:20px\">#</th> <th style=\"font-weight: 100; font-size:16px; text-align:left; padding-top:5px; padding-bottom:5px\">CITY NAME</th> <th style=\"font-weight: 100; font-size:16px; text-align:left; padding-top:5px; padding-bottom:5px\">POPULATION</th> </tr> </thead> <tbody> <tr> <td style=\"color:#999; text-align:center; vertical-align:middle\">1</td> <td style=\"font-weight: bold; font-size:17px; text-align:left; padding-left:10px; padding-top:5px; padding-bottom:5px\">Mumbai</td> <td style=\" font-size:17px; text-align:left; padding-left:10px; padding-top:5px; padding-bottom:5px\">12,691,836</td> </tr> <tr> <td style=\"color:#999; text-align:center; vertical-align:middle\">2</td> <td style=\"font-weight: bold; font-size:17px; text-align:left; padding-left:10px; padding-top:5px; padding-bottom:5px\">Delhi</td> <td style=\" font-size:17px; text-align:left; padding-left:10px; padding-top:5px; padding-bottom:5px\">10,927,986</td> </tr> <tr> <td style=\"color:#999; text-align:center; vertical-align:middle\">3</td> <td style=\"font-weight: bold; font-size:17px; text-align:left; padding-left:10px; padding-top:5px; padding-bottom:5px\">Bengaluru</td> <td style=\" font-size:17px; text-align:left; padding-left:10px; padding-top:5px; padding-bottom:5px\">5,104,047</td> </tr> <tr> <td style=\"color:#999; text-align:center; vertical-align:middle\">4</td> <td style=\"font-weight: bold; font-size:17px; text-align:left; padding-left:10px; padding-top:5px; padding-bottom:5px\">Kolkata</td> <td style=\" font-size:17px; text-align:left; padding-left:10px; padding-top:5px; padding-bottom:5px\">4,631,392</td> </tr> <tr> <td style=\"color:#999; text-align:center; vertical-align:middle\">5</td> <td style=\"font-weight: bold; font-size:17px; text-align:left; padding-left:10px; padding-top:5px; padding-bottom:5px\">Chennai</td> <td style=\" font-size:17px; text-align:left; padding-left:10px; padding-top:5px; padding-bottom:5px\">4,328,063</td> </tr> <tr> <td style=\"color:#999; text-align:center; vertical-align:middle\">6</td> <td style=\"font-weight: bold; font-size:17px; text-align:left; padding-left:10px; padding-top:5px; padding-bottom:5px\">Ahmedabad</td> <td style=\" font-size:17px; text-align:left; padding-left:10px; padding-top:5px; padding-bottom:5px\">3,719,710</td> </tr> <tr> <td style=\"color:#999; text-align:center; vertical-align:middle\">7</td> <td style=\"font-weight: bold; font-size:17px; text-align:left; padding-left:10px; padding-top:5px; padding-bottom:5px\">Hyderabad</td> <td style=\" font-size:17px; text-align:left; padding-left:10px; padding-top:5px; padding-bottom:5px\">3,597,816</td> </tr> <tr> <td style=\"color:#999; text-align:center; vertical-align:middle\">8</td> <td style=\"font-weight: bold; font-size:17px; text-align:left; padding-left:10px; padding-top:5px; padding-bottom:5px\">Pune</td> <td style=\" font-size:17px; text-align:left; padding-left:10px; padding-top:5px; padding-bottom:5px\">2,935,744</td> </tr> <tr> <td style=\"color:#999; text-align:center; vertical-align:middle\">9</td> <td style=\"font-weight: bold; font-size:17px; text-align:left; padding-left:10px; padding-top:5px; padding-bottom:5px\">Surat</td> <td style=\" font-size:17px; text-align:left; padding-left:10px; padding-top:5px; padding-bottom:5px\">2,894,504</td> </tr> <tr> <td style=\"color:#999; text-align:center; vertical-align:middle\">10</td> <td style=\"font-weight: bold; font-size:17px; text-align:left; padding-left:10px; padding-top:5px; padding-bottom:5px\">Kanpur</td> <td style=\" font-size:17px; text-align:left; padding-left:10px; padding-top:5px; padding-bottom:5px\">2,823,249</td> </tr> <tr> <td style=\"color:#999; text-align:center; vertical-align:middle\">11</td> <td style=\"font-weight: bold; font-size:17px; text-align:left; padding-left:10px; padding-top:5px; padding-bottom:5px\">Jaipur</td> <td style=\" font-size:17px; text-align:left; padding-left:10px; padding-top:5px; padding-bottom:5px\">2,711,758</td> </tr> <tr> <td style=\"color:#999; text-align:center; vertical-align:middle\">12</td> <td style=\"font-weight: bold; font-size:17px; text-align:left; padding-left:10px; padding-top:5px; padding-bottom:5px\">Navi Mumbai</td> <td style=\" font-size:17px; text-align:left; padding-left:10px; padding-top:5px; padding-bottom:5px\">2,600,000</td> </tr> <tr> <td style=\"color:#999; text-align:center; vertical-align:middle\">13</td> <td style=\"font-weight: bold; font-size:17px; text-align:left; padding-left:10px; padding-top:5px; padding-bottom:5px\">Lucknow</td> <td style=\" font-size:17px; text-align:left; padding-left:10px; padding-top:5px; padding-bottom:5px\">2,472,011</td> </tr> <tr> <td style=\"color:#999; text-align:center; vertical-align:middle\">14</td> <td style=\"font-weight: bold; font-size:17px; text-align:left; padding-left:10px; padding-top:5px; padding-bottom:5px\">Nagpur</td> <td style=\" font-size:17px; text-align:left; padding-left:10px; padding-top:5px; padding-bottom:5px\">2,228,018</td> </tr> <tr> <td style=\"color:#999; text-align:center; vertical-align:middle\">15</td> <td style=\"font-weight: bold; font-size:17px; text-align:left; padding-left:10px; padding-top:5px; padding-bottom:5px\">Indore</td> <td style=\" font-size:17px; text-align:left; padding-left:10px; padding-top:5px; padding-bottom:5px\">1,837,041</td> </tr> <tr> <td style=\"color:#999; text-align:center; vertical-align:middle\">16</td> <td style=\"font-weight: bold; font-size:17px; text-align:left; padding-left:10px; padding-top:5px; padding-bottom:5px\">Patna</td> <td style=\" font-size:17px; text-align:left; padding-left:10px; padding-top:5px; padding-bottom:5px\">1,599,920</td> </tr> <tr> <td style=\"color:#999; text-align:center; vertical-align:middle\">17</td> <td style=\"font-weight: bold; font-size:17px; text-align:left; padding-left:10px; padding-top:5px; padding-bottom:5px\">Bhopal</td> <td style=\" font-size:17px; text-align:left; padding-left:10px; padding-top:5px; padding-bottom:5px\">1,599,914</td> </tr> <tr> <td style=\"color:#999; text-align:center; vertical-align:middle\">18</td> <td style=\"font-weight: bold; font-size:17px; text-align:left; padding-left:10px; padding-top:5px; padding-bottom:5px\">Ludhiana</td> <td style=\" font-size:17px; text-align:left; padding-left:10px; padding-top:5px; padding-bottom:5px\">1,545,368</td> </tr> <tr> <td style=\"color:#999; text-align:center; vertical-align:middle\">19</td> <td style=\"font-weight: bold; font-size:17px; text-align:left; padding-left:10px; padding-top:5px; padding-bottom:5px\">Tirunelveli</td> <td style=\" font-size:17px; text-align:left; padding-left:10px; padding-top:5px; padding-bottom:5px\">1,435,844</td> </tr> <tr> <td style=\"color:#999; text-align:center; vertical-align:middle\">20</td> <td style=\"font-weight: bold; font-size:17px; text-align:left; padding-left:10px; padding-top:5px; padding-bottom:5px\">Agra</td> <td style=\" font-size:17px; text-align:left; padding-left:10px; padding-top:5px; padding-bottom:5px\">1,430,055</td> </tr> <tr> <td style=\"color:#999; text-align:center; vertical-align:middle\">21</td> <td style=\"font-weight: bold; font-size:17px; text-align:left; padding-left:10px; padding-top:5px; padding-bottom:5px\">Vadodara</td> <td style=\" font-size:17px; text-align:left; padding-left:10px; padding-top:5px; padding-bottom:5px\">1,409,476</td> </tr> <tr> <td style=\"color:#999; text-align:center; vertical-align:middle\">22</td> <td style=\"font-weight: bold; font-size:17px; text-align:left; padding-left:10px; padding-top:5px; padding-bottom:5px\">Gorakhpur</td> <td style=\" font-size:17px; text-align:left; padding-left:10px; padding-top:5px; padding-bottom:5px\">1,324,570</td> </tr> <tr> <td style=\"color:#999; text-align:center; vertical-align:middle\">23</td> <td style=\"font-weight: bold; font-size:17px; text-align:left; padding-left:10px; padding-top:5px; padding-bottom:5px\">Nashik</td> <td style=\" font-size:17px; text-align:left; padding-left:10px; padding-top:5px; padding-bottom:5px\">1,289,497</td> </tr> <tr> <td style=\"color:#999; text-align:center; vertical-align:middle\">24</td> <td style=\"font-weight: bold; font-size:17px; text-align:left; padding-left:10px; padding-top:5px; padding-bottom:5px\">Pimpri</td> <td style=\" font-size:17px; text-align:left; padding-left:10px; padding-top:5px; padding-bottom:5px\">1,284,606</td> </tr> <tr> <td style=\"color:#999; text-align:center; vertical-align:middle\">25</td> <td style=\"font-weight: bold; font-size:17px; text-align:left; padding-left:10px; padding-top:5px; padding-bottom:5px\">Kalyan</td> <td style=\" font-size:17px; text-align:left; padding-left:10px; padding-top:5px; padding-bottom:5px\">1,262,255</td> </tr> <tr> <td style=\"color:#999; text-align:center; vertical-align:middle\">26</td> <td style=\"font-weight: bold; font-size:17px; text-align:left; padding-left:10px; padding-top:5px; padding-bottom:5px\">Thane</td> <td style=\" font-size:17px; text-align:left; padding-left:10px; padding-top:5px; padding-bottom:5px\">1,261,517</td> </tr> <tr> <td style=\"color:#999; text-align:center; vertical-align:middle\">27</td> <td style=\"font-weight: bold; font-size:17px; text-align:left; padding-left:10px; padding-top:5px; padding-bottom:5px\">Meerut</td> <td style=\" font-size:17px; text-align:left; padding-left:10px; padding-top:5px; padding-bottom:5px\">1,223,184</td> </tr> <tr> <td style=\"color:#999; text-align:center; vertical-align:middle\">28</td> <td style=\"font-weight: bold; font-size:17px; text-align:left; padding-left:10px; padding-top:5px; padding-bottom:5px\">Nowrangapur</td> <td style=\" font-size:17px; text-align:left; padding-left:10px; padding-top:5px; padding-bottom:5px\">1,220,946</td> </tr> <tr> <td style=\"color:#999; text-align:center; vertical-align:middle\">29</td> <td style=\"font-weight: bold; font-size:17px; text-align:left; padding-left:10px; padding-top:5px; padding-bottom:5px\">Faridabad</td> <td style=\" font-size:17px; text-align:left; padding-left:10px; padding-top:5px; padding-bottom:5px\">1,220,229</td> </tr> <tr> <td style=\"color:#999; text-align:center; vertical-align:middle\">30</td> <td style=\"font-weight: bold; font-size:17px; text-align:left; padding-left:10px; padding-top:5px; padding-bottom:5px\">Ghaziabad</td> <td style=\" font-size:17px; text-align:left; padding-left:10px; padding-top:5px; padding-bottom:5px\">1,199,191</td> </tr> <tr> <td style=\"color:#999; text-align:center; vertical-align:middle\">31</td> <td style=\"font-weight: bold; font-size:17px; text-align:left; padding-left:10px; padding-top:5px; padding-bottom:5px\">Dombivli</td> <td style=\" font-size:17px; text-align:left; padding-left:10px; padding-top:5px; padding-bottom:5px\">1,193,000</td> </tr> <tr> <td style=\"color:#999; text-align:center; vertical-align:middle\">32</td> <td style=\"font-weight: bold; font-size:17px; text-align:left; padding-left:10px; padding-top:5px; padding-bottom:5px\">Rajkot</td> <td style=\" font-size:17px; text-align:left; padding-left:10px; padding-top:5px; padding-bottom:5px\">1,177,362</td> </tr> <tr> <td style=\"color:#999; text-align:center; vertical-align:middle\">33</td> <td style=\"font-weight: bold; font-size:17px; text-align:left; padding-left:10px; padding-top:5px; padding-bottom:5px\">Varanasi</td> <td style=\" font-size:17px; text-align:left; padding-left:10px; padding-top:5px; padding-bottom:5px\">1,164,404</td> </tr> <tr> <td style=\"color:#999; text-align:center; vertical-align:middle\">34</td> <td style=\"font-weight: bold; font-size:17px; text-align:left; padding-left:10px; padding-top:5px; padding-bottom:5px\">Amritsar</td> <td style=\" font-size:17px; text-align:left; padding-left:10px; padding-top:5px; padding-bottom:5px\">1,092,450</td> </tr> <tr> <td style=\"color:#999; text-align:center; vertical-align:middle\">35</td> <td style=\"font-weight: bold; font-size:17px; text-align:left; padding-left:10px; padding-top:5px; padding-bottom:5px\">Allahabad</td> <td style=\" font-size:17px; text-align:left; padding-left:10px; padding-top:5px; padding-bottom:5px\">1,073,438</td> </tr> <tr> <td style=\"color:#999; text-align:center; vertical-align:middle\">36</td> <td style=\"font-weight: bold; font-size:17px; text-align:left; padding-left:10px; padding-top:5px; padding-bottom:5px\">Visakhapatnam</td> <td style=\" font-size:17px; text-align:left; padding-left:10px; padding-top:5px; padding-bottom:5px\">1,063,178</td> </tr> <tr> <td style=\"color:#999; text-align:center; vertical-align:middle\">37</td> <td style=\"font-weight: bold; font-size:17px; text-align:left; padding-left:10px; padding-top:5px; padding-bottom:5px\">Teni</td> <td style=\" font-size:17px; text-align:left; padding-left:10px; padding-top:5px; padding-bottom:5px\">1,034,724</td> </tr> <tr> <td style=\"color:#999; text-align:center; vertical-align:middle\">38</td> <td style=\"font-weight: bold; font-size:17px; text-align:left; padding-left:10px; padding-top:5px; padding-bottom:5px\">Jabalpur</td> <td style=\" font-size:17px; text-align:left; padding-left:10px; padding-top:5px; padding-bottom:5px\">1,030,168</td> </tr> <tr> <td style=\"color:#999; text-align:center; vertical-align:middle\">39</td> <td style=\"font-weight: bold; font-size:17px; text-align:left; padding-left:10px; padding-top:5px; padding-bottom:5px\">Haora</td> <td style=\" font-size:17px; text-align:left; padding-left:10px; padding-top:5px; padding-bottom:5px\">1,027,672</td> </tr> <tr> <td style=\"color:#999; text-align:center; vertical-align:middle\">40</td> <td style=\"font-weight: bold; font-size:17px; text-align:left; padding-left:10px; padding-top:5px; padding-bottom:5px\">Aurangabad</td> <td style=\" font-size:17px; text-align:left; padding-left:10px; padding-top:5px; padding-bottom:5px\">1,016,441</td> </tr> <tr> <td style=\"color:#999; text-align:center; vertical-align:middle\">41</td> <td style=\"font-weight: bold; font-size:17px; text-align:left; padding-left:10px; padding-top:5px; padding-bottom:5px\">Shivaji Nagar</td> <td style=\" font-size:17px; text-align:left; padding-left:10px; padding-top:5px; padding-bottom:5px\">1,000,000</td> </tr> <tr> <td style=\"color:#999; text-align:center; vertical-align:middle\">42</td> <td style=\"font-weight: bold; font-size:17px; text-align:left; padding-left:10px; padding-top:5px; padding-bottom:5px\">Solapur</td> <td style=\" font-size:17px; text-align:left; padding-left:10px; padding-top:5px; padding-bottom:5px\">997,281</td> </tr> <tr> <td style=\"color:#999; text-align:center; vertical-align:middle\">43</td> <td style=\"font-weight: bold; font-size:17px; text-align:left; padding-left:10px; padding-top:5px; padding-bottom:5px\">Srinagar</td> <td style=\" font-size:17px; text-align:left; padding-left:10px; padding-top:5px; padding-bottom:5px\">975,857</td> </tr> <tr> <td style=\"color:#999; text-align:center; vertical-align:middle\">44</td> <td style=\"font-weight: bold; font-size:17px; text-align:left; padding-left:10px; padding-top:5px; padding-bottom:5px\">Chandigarh</td> <td style=\" font-size:17px; text-align:left; padding-left:10px; padding-top:5px; padding-bottom:5px\">960,787</td> </tr> <tr> <td style=\"color:#999; text-align:center; vertical-align:middle\">45</td> <td style=\"font-weight: bold; font-size:17px; text-align:left; padding-left:10px; padding-top:5px; padding-bottom:5px\">Coimbatore</td> <td style=\" font-size:17px; text-align:left; padding-left:10px; padding-top:5px; padding-bottom:5px\">959,823</td> </tr> <tr> <td style=\"color:#999; text-align:center; vertical-align:middle\">46</td> <td style=\"font-weight: bold; font-size:17px; text-align:left; padding-left:10px; padding-top:5px; padding-bottom:5px\">Jodhpur</td> <td style=\" font-size:17px; text-align:left; padding-left:10px; padding-top:5px; padding-bottom:5px\">921,476</td> </tr> <tr> <td style=\"color:#999; text-align:center; vertical-align:middle\">47</td> <td style=\"font-weight: bold; font-size:17px; text-align:left; padding-left:10px; padding-top:5px; padding-bottom:5px\">Madurai</td> <td style=\" font-size:17px; text-align:left; padding-left:10px; padding-top:5px; padding-bottom:5px\">909,908</td> </tr> <tr> <td style=\"color:#999; text-align:center; vertical-align:middle\">48</td> <td style=\"font-weight: bold; font-size:17px; text-align:left; padding-left:10px; padding-top:5px; padding-bottom:5px\">Guwahati</td> <td style=\" font-size:17px; text-align:left; padding-left:10px; padding-top:5px; padding-bottom:5px\">899,094</td> </tr> <tr> <td style=\"color:#999; text-align:center; vertical-align:middle\">49</td> <td style=\"font-weight: bold; font-size:17px; text-align:left; padding-left:10px; padding-top:5px; padding-bottom:5px\">Gwalior</td> <td style=\" font-size:17px; text-align:left; padding-left:10px; padding-top:5px; padding-bottom:5px\">882,458</td> </tr> <tr> <td style=\"color:#999; text-align:center; vertical-align:middle\">50</td> <td style=\"font-weight: bold; font-size:17px; text-align:left; padding-left:10px; padding-top:5px; padding-bottom:5px\">Vijayawada</td> <td style=\" font-size:17px; text-align:left; padding-left:10px; padding-top:5px; padding-bottom:5px\">874,587</td> </tr> <tr> <td style=\"color:#999; text-align:center; vertical-align:middle\">51</td> <td style=\"font-weight: bold; font-size:17px; text-align:left; padding-left:10px; padding-top:5px; padding-bottom:5px\">Mysore</td> <td style=\" font-size:17px; text-align:left; padding-left:10px; padding-top:5px; padding-bottom:5px\">868,313</td> </tr> <tr> <td style=\"color:#999; text-align:center; vertical-align:middle\">52</td> <td style=\"font-weight: bold; font-size:17px; text-align:left; padding-left:10px; padding-top:5px; padding-bottom:5px\">Ranchi</td> <td style=\" font-size:17px; text-align:left; padding-left:10px; padding-top:5px; padding-bottom:5px\">846,454</td> </tr> <tr> <td style=\"color:#999; text-align:center; vertical-align:middle\">53</td> <td style=\"font-weight: bold; font-size:17px; text-align:left; padding-left:10px; padding-top:5px; padding-bottom:5px\">Hubli</td> <td style=\" font-size:17px; text-align:left; padding-left:10px; padding-top:5px; padding-bottom:5px\">840,214</td> </tr> <tr> <td style=\"color:#999; text-align:center; vertical-align:middle\">54</td> <td style=\"font-weight: bold; font-size:17px; text-align:left; padding-left:10px; padding-top:5px; padding-bottom:5px\">Jalandhar</td> <td style=\" font-size:17px; text-align:left; padding-left:10px; padding-top:5px; padding-bottom:5px\">785,178</td> </tr> <tr> <td style=\"color:#999; text-align:center; vertical-align:middle\">55</td> <td style=\"font-weight: bold; font-size:17px; text-align:left; padding-left:10px; padding-top:5px; padding-bottom:5px\">Thiruvananthapuram</td> <td style=\" font-size:17px; text-align:left; padding-left:10px; padding-top:5px; padding-bottom:5px\">784,153</td> </tr> <tr> <td style=\"color:#999; text-align:center; vertical-align:middle\">56</td> <td style=\"font-weight: bold; font-size:17px; text-align:left; padding-left:10px; padding-top:5px; padding-bottom:5px\">Salem</td> <td style=\" font-size:17px; text-align:left; padding-left:10px; padding-top:5px; padding-bottom:5px\">778,396</td> </tr> <tr> <td style=\"color:#999; text-align:center; vertical-align:middle\">57</td> <td style=\"font-weight: bold; font-size:17px; text-align:left; padding-left:10px; padding-top:5px; padding-bottom:5px\">Tiruchirappalli</td> <td style=\" font-size:17px; text-align:left; padding-left:10px; padding-top:5px; padding-bottom:5px\">775,484</td> </tr> <tr> <td style=\"color:#999; text-align:center; vertical-align:middle\">58</td> <td style=\"font-weight: bold; font-size:17px; text-align:left; padding-left:10px; padding-top:5px; padding-bottom:5px\">Kota</td> <td style=\" font-size:17px; text-align:left; padding-left:10px; padding-top:5px; padding-bottom:5px\">763,088</td> </tr> <tr> <td style=\"color:#999; text-align:center; vertical-align:middle\">59</td> <td style=\"font-weight: bold; font-size:17px; text-align:left; padding-left:10px; padding-top:5px; padding-bottom:5px\">Bhubaneshwar</td> <td style=\" font-size:17px; text-align:left; padding-left:10px; padding-top:5px; padding-bottom:5px\">762,243</td> </tr> <tr> <td style=\"color:#999; text-align:center; vertical-align:middle\">60</td> <td style=\"font-weight: bold; font-size:17px; text-align:left; padding-left:10px; padding-top:5px; padding-bottom:5px\">Aligarh</td> <td style=\" font-size:17px; text-align:left; padding-left:10px; padding-top:5px; padding-bottom:5px\">753,207</td> </tr> <tr> <td style=\"color:#999; text-align:center; vertical-align:middle\">61</td> <td style=\"font-weight: bold; font-size:17px; text-align:left; padding-left:10px; padding-top:5px; padding-bottom:5px\">Bareilly</td> <td style=\" font-size:17px; text-align:left; padding-left:10px; padding-top:5px; padding-bottom:5px\">745,435</td> </tr> <tr> <td style=\"color:#999; text-align:center; vertical-align:middle\">62</td> <td style=\"font-weight: bold; font-size:17px; text-align:left; padding-left:10px; padding-top:5px; padding-bottom:5px\">Moradabad</td> <td style=\" font-size:17px; text-align:left; padding-left:10px; padding-top:5px; padding-bottom:5px\">721,139</td> </tr> <tr> <td style=\"color:#999; text-align:center; vertical-align:middle\">63</td> <td style=\"font-weight: bold; font-size:17px; text-align:left; padding-left:10px; padding-top:5px; padding-bottom:5px\">Bhiwandi</td> <td style=\" font-size:17px; text-align:left; padding-left:10px; padding-top:5px; padding-bottom:5px\">707,035</td> </tr> <tr> <td style=\"color:#999; text-align:center; vertical-align:middle\">64</td> <td style=\"font-weight: bold; font-size:17px; text-align:left; padding-left:10px; padding-top:5px; padding-bottom:5px\">Raipur</td> <td style=\" font-size:17px; text-align:left; padding-left:10px; padding-top:5px; padding-bottom:5px\">679,995</td> </tr> <tr> <td style=\"color:#999; text-align:center; vertical-align:middle\">65</td> <td style=\"font-weight: bold; font-size:17px; text-align:left; padding-left:10px; padding-top:5px; padding-bottom:5px\">Gorakhpur</td> <td style=\" font-size:17px; text-align:left; padding-left:10px; padding-top:5px; padding-bottom:5px\">674,246</td> </tr> <tr> <td style=\"color:#999; text-align:center; vertical-align:middle\">66</td> <td style=\"font-weight: bold; font-size:17px; text-align:left; padding-left:10px; padding-top:5px; padding-bottom:5px\">Bhilai</td> <td style=\" font-size:17px; text-align:left; padding-left:10px; padding-top:5px; padding-bottom:5px\">625,138</td> </tr> <tr> <td style=\"color:#999; text-align:center; vertical-align:middle\">67</td> <td style=\"font-weight: bold; font-size:17px; text-align:left; padding-left:10px; padding-top:5px; padding-bottom:5px\">Jamshedpur</td> <td style=\" font-size:17px; text-align:left; padding-left:10px; padding-top:5px; padding-bottom:5px\">616,338</td> </tr> <tr> <td style=\"color:#999; text-align:center; vertical-align:middle\">68</td> <td style=\"font-weight: bold; font-size:17px; text-align:left; padding-left:10px; padding-top:5px; padding-bottom:5px\">Borivli</td> <td style=\" font-size:17px; text-align:left; padding-left:10px; padding-top:5px; padding-bottom:5px\">609,617</td> </tr> <tr> <td style=\"color:#999; text-align:center; vertical-align:middle\">69</td> <td style=\"font-weight: bold; font-size:17px; text-align:left; padding-left:10px; padding-top:5px; padding-bottom:5px\">Cochin</td> <td style=\" font-size:17px; text-align:left; padding-left:10px; padding-top:5px; padding-bottom:5px\">604,696</td> </tr> <tr> <td style=\"color:#999; text-align:center; vertical-align:middle\">70</td> <td style=\"font-weight: bold; font-size:17px; text-align:left; padding-left:10px; padding-top:5px; padding-bottom:5px\">Amravati</td> <td style=\" font-size:17px; text-align:left; padding-left:10px; padding-top:5px; padding-bottom:5px\">603,837</td> </tr> </tbody></table><br/></div> <!-- see also --><h3>See also</h3> <div class=\"spaced\"><ul> <li><a href=\"/demographics/india-demographics/\"><strong>Demographics of India</strong></a></li> <ul><li><strong><a href=\"/demographics/india-demographics/#median-age\">Median Age</a> </strong>(Historical Chart)</li><li><strong><a href=\"/demographics/india-demographics/#tfr\">Total Fertility Rate</a> </strong>(Historical Chart)</li><li><strong><a href=\"/demographics/india-demographics/#urb\">Urban vs. Rural Population</a></strong> (Historical Chart)</li></ul> <li><a href=\"/gdp/india-gdp/\">Gross Domestic Product (GDP) of India</a></li> <li><a href=\"/world-population/asia-population/\">Asia Population</a></li> <li><a href=\"/world-population/\">World Population</a></li> <li><a href=\"/world-map/\">World Map</a></li> <li><a href=\"/world-population/population-by-country/\">World Population by Country</a></li> </ul> </div><!-- see also --> <div align=\"right\"><a class=\"morelink\" href=\"#\">back to top ↑</a></div> <div style=\"color:#777; padding:10px; background-color:rgb(250,250,250); border-top:1px solid #eee; border-bottom:1px solid #eee; font-size:13px; line-height:130%\"> <h3>Notes</h3> <p>The <strong>India Population (Live)</strong> counter shows a continuously updated estimate of the current population of India delivered by <a href=\"/licensing/what/\">Worldometer's RTS algorithm</a>, which processes data collected from the United Nations Population Division.</p> <p>The <strong>Population of India (1950 - 2023)</strong> chart plots the total population count as of July 1 of each year, from 1950 to 2023.</p> The <strong>Yearly Population Growth Rate </strong>chart plots the annual percentage changes in population registered on July 1 of each year, from 1951 to 2023. This value can differ from the <em>Yearly % Change</em> shown in the historical table, which shows the last year equivalent percentage change assuming homogeneous change in the preceding five year period. <br/> <br/> <h3>Definitions</h3> <p><strong>Year</strong>: as of July 1 of the year indicated.</p> <p><strong>Population</strong>: Overall total population (both sexes and all ages) in the country as of July 1 of the year indicated, as estimated by the United Nations, Department of Economic and Social Affairs, Population Division. <a href=\"https://esa.un.org/unpd/wpp/\"><span class=\"source-table-elab\"><a href=\"https://population.un.org/wpp/\">World Population Prospects: The 2022 Revision</a></span></a>. For forecasted years, the U.N. medium-fertility variant is used. </p> <button class=\"btn btn-success\" data-target=\"#demo\" data-toggle=\"collapse\" type=\"button\">Read More Definitions...</button> <div class=\"collapse\" id=\"demo\"><br/> <p><strong>Yearly % Change</strong>: For 2023: percentage change in total population over the last year (from July 1, 2022 to June 30 2023). For all other years: latest year annual percentage change equivalent assuming homogeneous change in the preceding five year period, calculated through reverse compounding. </p> <p><strong>Yearly Change</strong>: For 2023: absolute change in total population (increase or decrease in number of people) over the last year (from July 1, 2022 to June 30 2023). For all other years: average annual numerical change over the preceding five year period.</p> <p><strong>Migrants (net)</strong>: The average annual number of immigrants minus the number of emigrants over the preceding five year period (running from July 1 to June 30 of the initial and final years), or subsequent five year period (for 2016 data). A negative number means that there are more emigrants than immigrants. </p> <p><strong>Median Age</strong>: age that divides the population into two numerically equal groups: half of the people are older than the median age indicated and half are younger. This parameter provides an indication of age distribution.</p> <p><strong>Fertility Rate</strong>: (Total Fertility Rate, or TFR), it is expressed as children per woman. It is calculated as the average number of children an average woman will have during her reproductive period (15 to 49 years old) based on the current <a href=\"http://www.un.org/esa/population/publications/WFD2012/Metadata/Metadata_ASFR.html\">fertility rates</a> of every age group in the country, and assuming she is not subject to mortality.</p> <p><strong>Density (P/Km²)</strong>: (Population Density) Population per square Kilometer (Km²).</p> <p><strong>Urban Pop % </strong>: Urban population as a percentage of total population.</p> <p><strong>Urban Population</strong>: Population living in areas classified as urban according to the criteria used by each country.</p> <p><strong>Country's Share of World Pop</strong>: Total population in the country as a percentage of total World Population as of July 1 of the year indicated.</p> <p><strong>World Population</strong>: Total World Population as of July 1 of the year indicated.</p> <p><strong>Global Rank</strong>: Position held by India in the list of all countries worldwide ranked by population (from the highest population to the lowest population) as of July 1 of the year indicated. </p></div></div> </div><!-- content c --></div></div><div class=\"sharewrap\"><span class=\"share-text\">Share This!</span> <div class=\"addthis_responsive_sharing\"></div></div><div style=\"margin-top:80px\"></div></div> <!--=== Closed TOP Content Container ===--> <footer><div class=\"footerlinks\"><div style=\"margin-bottom:20px\"><a href=\"/\"><img border=\"0\" class=\"img-footer\" src=\"/img/worldometers-logo-footer.png\"/></a></div><a href=\"/about/\">about</a> | <a href=\"/faq/\">faq</a> | <a href=\"/languages/\">languages</a> | <a href=\"/contact/\">contact</a></div><ul class=\"list-inline text-center socialbuttons\"><li><a data-placement=\"bottom\" data-toggle=\"tooltip\" href=\"/newsletter-subscribe/\" title=\"Newsletter\"><i class=\"fa fa-bullhorn fa-round\"></i></a></li> <li><a href=\"https://twitter.com/Worldometers\"><i class=\"fa fa-twitter fa-round\"></i></a></li> <li><a href=\"https://www.facebook.com/Worldometers.info\"><i class=\"fa fa-facebook fa-round\"></i></a></li></ul> <div class=\"copy\">© Copyright Worldometers.info - All rights reserved - <a href=\"/disclaimer/\">Disclaimer &amp; Privacy Policy</a></div></footer><!-- ADDTHIS--><script async=\"async\" src=\"//s7.addthis.com/js/300/addthis_widget.js#pubid=ra-54615fa823b2af68\" type=\"text/javascript\"></script> <!-- PAGEFAIR --><script type=\"text/javascript\"> (function() { function async_load(script_url){ var protocol = ('https:' == document.location.protocol ? 'https://' : 'http://'); var s = document.createElement('script'); s.src = protocol + script_url; var x = document.getElementsByTagName('script')[0]; x.parentNode.insertBefore(s, x); } bm_website_code = '7849CD9451D34931'; jQuery(document).ready(function(){async_load('asset.pagefair.com/measure.min.js')}); jQuery(document).ready(function(){async_load('asset.pagefair.net/ads.min.js')}); })();</script> <!-- PAGEFAIR --> <!-- Quantcast Tag --><script type=\"text/javascript\">var _qevents = _qevents || [];\n",
            "(function() {\n",
            "var elem = document.createElement('script');\n",
            "elem.src = (document.location.protocol == \"https:\" ? \"https://secure\" : \"http://edge\") + \".quantserve.com/quant.js\";\n",
            "elem.async = true;\n",
            "elem.type = \"text/javascript\";\n",
            "var scpt = document.getElementsByTagName('script')[0];\n",
            "scpt.parentNode.insertBefore(elem, scpt);\n",
            "})();\n",
            "_qevents.push({\n",
            "qacct:\"p-Pd9JxUkvV0m7q\"\n",
            "});</script><noscript><div style=\"display:none;\"><img alt=\"Quantcast\" border=\"0\" height=\"1\" src=\"//pixel.quantserve.com/pixel/p-Pd9JxUkvV0m7q.gif\" width=\"1\"/></div></noscript><!-- End Quantcast tag --></body></html>\n"
          ]
        }
      ]
    },
    {
      "cell_type": "code",
      "source": [
        "title=soup.find('title')\n",
        "print(title)\n"
      ],
      "metadata": {
        "colab": {
          "base_uri": "https://localhost:8080/"
        },
        "id": "qndFAlZGA3dm",
        "outputId": "0da00542-4486-4a7b-bb48-3a4dc2f5ad2d"
      },
      "execution_count": 7,
      "outputs": [
        {
          "output_type": "stream",
          "name": "stdout",
          "text": [
            "<title>India Population (2024) - Worldometer</title>\n"
          ]
        }
      ]
    },
    {
      "cell_type": "code",
      "source": [
        "print(title.text)"
      ],
      "metadata": {
        "colab": {
          "base_uri": "https://localhost:8080/"
        },
        "id": "YjwFPE7eA94K",
        "outputId": "ede703a7-ee3b-4d39-a57b-0d2119b35c29"
      },
      "execution_count": 8,
      "outputs": [
        {
          "output_type": "stream",
          "name": "stdout",
          "text": [
            "India Population (2024) - Worldometer\n"
          ]
        }
      ]
    },
    {
      "cell_type": "code",
      "source": [
        "table = soup.find('table')\n",
        "print(table)"
      ],
      "metadata": {
        "colab": {
          "base_uri": "https://localhost:8080/"
        },
        "id": "CFneKGy_BDn9",
        "outputId": "0112aceb-65ae-4205-9e1d-b42c32bba73c"
      },
      "execution_count": 9,
      "outputs": [
        {
          "output_type": "stream",
          "name": "stdout",
          "text": [
            "<table border=\"0\" cellpadding=\"0\" width=\"100%\"> <tr> <td> <div class=\"chart-header\">India Population (1950 - 2024)</div> <div class=\"chart-pop\" id=\"chart_pop\"></div></td> </tr> <tr> <td><div class=\"chart-header\">Yearly Population Growth Rate (%) </div> <div class=\"chart-pop-rate\" id=\"chart_pop_rate\"></div></td> </tr> </table>\n"
          ]
        }
      ]
    },
    {
      "cell_type": "code",
      "source": [
        "print(table.text)"
      ],
      "metadata": {
        "colab": {
          "base_uri": "https://localhost:8080/"
        },
        "id": "XKT374TtFu_A",
        "outputId": "23620445-5cf9-4f4d-e4f7-f3ab8150a977"
      },
      "execution_count": 10,
      "outputs": [
        {
          "output_type": "stream",
          "name": "stdout",
          "text": [
            "   India Population (1950 - 2024)    Yearly Population Growth Rate (%)    \n"
          ]
        }
      ]
    },
    {
      "cell_type": "code",
      "source": [
        "Headings = table.find_all('tr')\n",
        "print(Headings)"
      ],
      "metadata": {
        "colab": {
          "base_uri": "https://localhost:8080/"
        },
        "id": "Tm4dftuYERt1",
        "outputId": "1ea3774f-e716-48d6-d2c9-fc6b83dcee42"
      },
      "execution_count": 38,
      "outputs": [
        {
          "output_type": "stream",
          "name": "stdout",
          "text": [
            "[<tr> <td> <div class=\"chart-header\">India Population (1950 - 2024)</div> <div class=\"chart-pop\" id=\"chart_pop\"></div></td> </tr>, <tr> <td><div class=\"chart-header\">Yearly Population Growth Rate (%) </div> <div class=\"chart-pop-rate\" id=\"chart_pop_rate\"></div></td> </tr>]\n"
          ]
        }
      ]
    },
    {
      "cell_type": "code",
      "source": [
        "Header = [i.text for i in Headings]\n",
        "print(Header)"
      ],
      "metadata": {
        "colab": {
          "base_uri": "https://localhost:8080/"
        },
        "id": "Hl_DddJiEWbI",
        "outputId": "fd9514a6-400f-42d8-ee63-ee9b84f8cf99"
      },
      "execution_count": 27,
      "outputs": [
        {
          "output_type": "stream",
          "name": "stdout",
          "text": [
            "['  India Population (1950 - 2024)  ', ' Yearly Population Growth Rate (%)   ']\n"
          ]
        }
      ]
    },
    {
      "cell_type": "code",
      "source": [
        "import pandas as pd\n",
        "df = pd.DataFrame(columns = Header)\n",
        "df"
      ],
      "metadata": {
        "colab": {
          "base_uri": "https://localhost:8080/",
          "height": 89
        },
        "id": "lDlWvZaLGJgJ",
        "outputId": "c0e8dab3-22ee-4671-ed87-294c870e9cf4"
      },
      "execution_count": 28,
      "outputs": [
        {
          "output_type": "execute_result",
          "data": {
            "text/plain": [
              "Empty DataFrame\n",
              "Columns: [  India Population (1950 - 2024)  ,  Yearly Population Growth Rate (%)   ]\n",
              "Index: []"
            ],
            "text/html": [
              "\n",
              "  <div id=\"df-087dd62f-41e7-462d-9022-91a157aabc06\" class=\"colab-df-container\">\n",
              "    <div>\n",
              "<style scoped>\n",
              "    .dataframe tbody tr th:only-of-type {\n",
              "        vertical-align: middle;\n",
              "    }\n",
              "\n",
              "    .dataframe tbody tr th {\n",
              "        vertical-align: top;\n",
              "    }\n",
              "\n",
              "    .dataframe thead th {\n",
              "        text-align: right;\n",
              "    }\n",
              "</style>\n",
              "<table border=\"1\" class=\"dataframe\">\n",
              "  <thead>\n",
              "    <tr style=\"text-align: right;\">\n",
              "      <th></th>\n",
              "      <th>India Population (1950 - 2024)</th>\n",
              "      <th>Yearly Population Growth Rate (%)</th>\n",
              "    </tr>\n",
              "  </thead>\n",
              "  <tbody>\n",
              "  </tbody>\n",
              "</table>\n",
              "</div>\n",
              "    <div class=\"colab-df-buttons\">\n",
              "\n",
              "  <div class=\"colab-df-container\">\n",
              "    <button class=\"colab-df-convert\" onclick=\"convertToInteractive('df-087dd62f-41e7-462d-9022-91a157aabc06')\"\n",
              "            title=\"Convert this dataframe to an interactive table.\"\n",
              "            style=\"display:none;\">\n",
              "\n",
              "  <svg xmlns=\"http://www.w3.org/2000/svg\" height=\"24px\" viewBox=\"0 -960 960 960\">\n",
              "    <path d=\"M120-120v-720h720v720H120Zm60-500h600v-160H180v160Zm220 220h160v-160H400v160Zm0 220h160v-160H400v160ZM180-400h160v-160H180v160Zm440 0h160v-160H620v160ZM180-180h160v-160H180v160Zm440 0h160v-160H620v160Z\"/>\n",
              "  </svg>\n",
              "    </button>\n",
              "\n",
              "  <style>\n",
              "    .colab-df-container {\n",
              "      display:flex;\n",
              "      gap: 12px;\n",
              "    }\n",
              "\n",
              "    .colab-df-convert {\n",
              "      background-color: #E8F0FE;\n",
              "      border: none;\n",
              "      border-radius: 50%;\n",
              "      cursor: pointer;\n",
              "      display: none;\n",
              "      fill: #1967D2;\n",
              "      height: 32px;\n",
              "      padding: 0 0 0 0;\n",
              "      width: 32px;\n",
              "    }\n",
              "\n",
              "    .colab-df-convert:hover {\n",
              "      background-color: #E2EBFA;\n",
              "      box-shadow: 0px 1px 2px rgba(60, 64, 67, 0.3), 0px 1px 3px 1px rgba(60, 64, 67, 0.15);\n",
              "      fill: #174EA6;\n",
              "    }\n",
              "\n",
              "    .colab-df-buttons div {\n",
              "      margin-bottom: 4px;\n",
              "    }\n",
              "\n",
              "    [theme=dark] .colab-df-convert {\n",
              "      background-color: #3B4455;\n",
              "      fill: #D2E3FC;\n",
              "    }\n",
              "\n",
              "    [theme=dark] .colab-df-convert:hover {\n",
              "      background-color: #434B5C;\n",
              "      box-shadow: 0px 1px 3px 1px rgba(0, 0, 0, 0.15);\n",
              "      filter: drop-shadow(0px 1px 2px rgba(0, 0, 0, 0.3));\n",
              "      fill: #FFFFFF;\n",
              "    }\n",
              "  </style>\n",
              "\n",
              "    <script>\n",
              "      const buttonEl =\n",
              "        document.querySelector('#df-087dd62f-41e7-462d-9022-91a157aabc06 button.colab-df-convert');\n",
              "      buttonEl.style.display =\n",
              "        google.colab.kernel.accessAllowed ? 'block' : 'none';\n",
              "\n",
              "      async function convertToInteractive(key) {\n",
              "        const element = document.querySelector('#df-087dd62f-41e7-462d-9022-91a157aabc06');\n",
              "        const dataTable =\n",
              "          await google.colab.kernel.invokeFunction('convertToInteractive',\n",
              "                                                    [key], {});\n",
              "        if (!dataTable) return;\n",
              "\n",
              "        const docLinkHtml = 'Like what you see? Visit the ' +\n",
              "          '<a target=\"_blank\" href=https://colab.research.google.com/notebooks/data_table.ipynb>data table notebook</a>'\n",
              "          + ' to learn more about interactive tables.';\n",
              "        element.innerHTML = '';\n",
              "        dataTable['output_type'] = 'display_data';\n",
              "        await google.colab.output.renderOutput(dataTable, element);\n",
              "        const docLink = document.createElement('div');\n",
              "        docLink.innerHTML = docLinkHtml;\n",
              "        element.appendChild(docLink);\n",
              "      }\n",
              "    </script>\n",
              "  </div>\n",
              "\n",
              "\n",
              "  <div id=\"id_eee23003-8c58-4fdc-b2f2-95dcdd6b6319\">\n",
              "    <style>\n",
              "      .colab-df-generate {\n",
              "        background-color: #E8F0FE;\n",
              "        border: none;\n",
              "        border-radius: 50%;\n",
              "        cursor: pointer;\n",
              "        display: none;\n",
              "        fill: #1967D2;\n",
              "        height: 32px;\n",
              "        padding: 0 0 0 0;\n",
              "        width: 32px;\n",
              "      }\n",
              "\n",
              "      .colab-df-generate:hover {\n",
              "        background-color: #E2EBFA;\n",
              "        box-shadow: 0px 1px 2px rgba(60, 64, 67, 0.3), 0px 1px 3px 1px rgba(60, 64, 67, 0.15);\n",
              "        fill: #174EA6;\n",
              "      }\n",
              "\n",
              "      [theme=dark] .colab-df-generate {\n",
              "        background-color: #3B4455;\n",
              "        fill: #D2E3FC;\n",
              "      }\n",
              "\n",
              "      [theme=dark] .colab-df-generate:hover {\n",
              "        background-color: #434B5C;\n",
              "        box-shadow: 0px 1px 3px 1px rgba(0, 0, 0, 0.15);\n",
              "        filter: drop-shadow(0px 1px 2px rgba(0, 0, 0, 0.3));\n",
              "        fill: #FFFFFF;\n",
              "      }\n",
              "    </style>\n",
              "    <button class=\"colab-df-generate\" onclick=\"generateWithVariable('df')\"\n",
              "            title=\"Generate code using this dataframe.\"\n",
              "            style=\"display:none;\">\n",
              "\n",
              "  <svg xmlns=\"http://www.w3.org/2000/svg\" height=\"24px\"viewBox=\"0 0 24 24\"\n",
              "       width=\"24px\">\n",
              "    <path d=\"M7,19H8.4L18.45,9,17,7.55,7,17.6ZM5,21V16.75L18.45,3.32a2,2,0,0,1,2.83,0l1.4,1.43a1.91,1.91,0,0,1,.58,1.4,1.91,1.91,0,0,1-.58,1.4L9.25,21ZM18.45,9,17,7.55Zm-12,3A5.31,5.31,0,0,0,4.9,8.1,5.31,5.31,0,0,0,1,6.5,5.31,5.31,0,0,0,4.9,4.9,5.31,5.31,0,0,0,6.5,1,5.31,5.31,0,0,0,8.1,4.9,5.31,5.31,0,0,0,12,6.5,5.46,5.46,0,0,0,6.5,12Z\"/>\n",
              "  </svg>\n",
              "    </button>\n",
              "    <script>\n",
              "      (() => {\n",
              "      const buttonEl =\n",
              "        document.querySelector('#id_eee23003-8c58-4fdc-b2f2-95dcdd6b6319 button.colab-df-generate');\n",
              "      buttonEl.style.display =\n",
              "        google.colab.kernel.accessAllowed ? 'block' : 'none';\n",
              "\n",
              "      buttonEl.onclick = () => {\n",
              "        google.colab.notebook.generateWithVariable('df');\n",
              "      }\n",
              "      })();\n",
              "    </script>\n",
              "  </div>\n",
              "\n",
              "    </div>\n",
              "  </div>\n"
            ],
            "application/vnd.google.colaboratory.intrinsic+json": {
              "type": "dataframe",
              "variable_name": "df",
              "repr_error": "'str' object has no attribute 'empty'"
            }
          },
          "metadata": {},
          "execution_count": 28
        }
      ]
    },
    {
      "cell_type": "code",
      "source": [
        "rows = table.find_all('td')\n",
        "print(rows)"
      ],
      "metadata": {
        "colab": {
          "base_uri": "https://localhost:8080/"
        },
        "id": "ou0K7pjLGag8",
        "outputId": "1a6cf8c6-13a8-4e26-e5e9-63029361a21a"
      },
      "execution_count": 39,
      "outputs": [
        {
          "output_type": "stream",
          "name": "stdout",
          "text": [
            "[<td> <div class=\"chart-header\">India Population (1950 - 2024)</div> <div class=\"chart-pop\" id=\"chart_pop\"></div></td>, <td><div class=\"chart-header\">Yearly Population Growth Rate (%) </div> <div class=\"chart-pop-rate\" id=\"chart_pop_rate\"></div></td>]\n"
          ]
        }
      ]
    },
    {
      "cell_type": "code",
      "source": [
        "ind=0\n",
        "for i in rows[1:6]:\n",
        "  row_data = i.find_all('td')\n",
        "  every_row_data = [i.text for i in row_data]\n",
        "  print(every_row_data)\n",
        "  df.loc[ind] = every_row_data\n",
        "  ind = ind+1\n"
      ],
      "metadata": {
        "id": "aZ-VZnGEG11n"
      },
      "execution_count": null,
      "outputs": []
    },
    {
      "cell_type": "code",
      "source": [
        "df"
      ],
      "metadata": {
        "colab": {
          "base_uri": "https://localhost:8080/",
          "height": 154
        },
        "id": "FPruFe9WmZrp",
        "outputId": "d07865e8-a88a-4232-fa24-7d1dbe1926df"
      },
      "execution_count": 41,
      "outputs": [
        {
          "output_type": "execute_result",
          "data": {
            "text/plain": [
              "Empty DataFrame\n",
              "Columns: [  India Population (1950 - 2024)  ,  Yearly Population Growth Rate (%)   ]\n",
              "Index: []"
            ],
            "text/html": [
              "\n",
              "  <div id=\"df-e801eca9-a5bb-4cc7-8c72-16f745bf1e50\" class=\"colab-df-container\">\n",
              "    <div>\n",
              "<style scoped>\n",
              "    .dataframe tbody tr th:only-of-type {\n",
              "        vertical-align: middle;\n",
              "    }\n",
              "\n",
              "    .dataframe tbody tr th {\n",
              "        vertical-align: top;\n",
              "    }\n",
              "\n",
              "    .dataframe thead th {\n",
              "        text-align: right;\n",
              "    }\n",
              "</style>\n",
              "<table border=\"1\" class=\"dataframe\">\n",
              "  <thead>\n",
              "    <tr style=\"text-align: right;\">\n",
              "      <th></th>\n",
              "      <th>India Population (1950 - 2024)</th>\n",
              "      <th>Yearly Population Growth Rate (%)</th>\n",
              "    </tr>\n",
              "  </thead>\n",
              "  <tbody>\n",
              "  </tbody>\n",
              "</table>\n",
              "</div>\n",
              "    <div class=\"colab-df-buttons\">\n",
              "\n",
              "  <div class=\"colab-df-container\">\n",
              "    <button class=\"colab-df-convert\" onclick=\"convertToInteractive('df-e801eca9-a5bb-4cc7-8c72-16f745bf1e50')\"\n",
              "            title=\"Convert this dataframe to an interactive table.\"\n",
              "            style=\"display:none;\">\n",
              "\n",
              "  <svg xmlns=\"http://www.w3.org/2000/svg\" height=\"24px\" viewBox=\"0 -960 960 960\">\n",
              "    <path d=\"M120-120v-720h720v720H120Zm60-500h600v-160H180v160Zm220 220h160v-160H400v160Zm0 220h160v-160H400v160ZM180-400h160v-160H180v160Zm440 0h160v-160H620v160ZM180-180h160v-160H180v160Zm440 0h160v-160H620v160Z\"/>\n",
              "  </svg>\n",
              "    </button>\n",
              "\n",
              "  <style>\n",
              "    .colab-df-container {\n",
              "      display:flex;\n",
              "      gap: 12px;\n",
              "    }\n",
              "\n",
              "    .colab-df-convert {\n",
              "      background-color: #E8F0FE;\n",
              "      border: none;\n",
              "      border-radius: 50%;\n",
              "      cursor: pointer;\n",
              "      display: none;\n",
              "      fill: #1967D2;\n",
              "      height: 32px;\n",
              "      padding: 0 0 0 0;\n",
              "      width: 32px;\n",
              "    }\n",
              "\n",
              "    .colab-df-convert:hover {\n",
              "      background-color: #E2EBFA;\n",
              "      box-shadow: 0px 1px 2px rgba(60, 64, 67, 0.3), 0px 1px 3px 1px rgba(60, 64, 67, 0.15);\n",
              "      fill: #174EA6;\n",
              "    }\n",
              "\n",
              "    .colab-df-buttons div {\n",
              "      margin-bottom: 4px;\n",
              "    }\n",
              "\n",
              "    [theme=dark] .colab-df-convert {\n",
              "      background-color: #3B4455;\n",
              "      fill: #D2E3FC;\n",
              "    }\n",
              "\n",
              "    [theme=dark] .colab-df-convert:hover {\n",
              "      background-color: #434B5C;\n",
              "      box-shadow: 0px 1px 3px 1px rgba(0, 0, 0, 0.15);\n",
              "      filter: drop-shadow(0px 1px 2px rgba(0, 0, 0, 0.3));\n",
              "      fill: #FFFFFF;\n",
              "    }\n",
              "  </style>\n",
              "\n",
              "    <script>\n",
              "      const buttonEl =\n",
              "        document.querySelector('#df-e801eca9-a5bb-4cc7-8c72-16f745bf1e50 button.colab-df-convert');\n",
              "      buttonEl.style.display =\n",
              "        google.colab.kernel.accessAllowed ? 'block' : 'none';\n",
              "\n",
              "      async function convertToInteractive(key) {\n",
              "        const element = document.querySelector('#df-e801eca9-a5bb-4cc7-8c72-16f745bf1e50');\n",
              "        const dataTable =\n",
              "          await google.colab.kernel.invokeFunction('convertToInteractive',\n",
              "                                                    [key], {});\n",
              "        if (!dataTable) return;\n",
              "\n",
              "        const docLinkHtml = 'Like what you see? Visit the ' +\n",
              "          '<a target=\"_blank\" href=https://colab.research.google.com/notebooks/data_table.ipynb>data table notebook</a>'\n",
              "          + ' to learn more about interactive tables.';\n",
              "        element.innerHTML = '';\n",
              "        dataTable['output_type'] = 'display_data';\n",
              "        await google.colab.output.renderOutput(dataTable, element);\n",
              "        const docLink = document.createElement('div');\n",
              "        docLink.innerHTML = docLinkHtml;\n",
              "        element.appendChild(docLink);\n",
              "      }\n",
              "    </script>\n",
              "  </div>\n",
              "\n",
              "\n",
              "  <div id=\"id_ce25b3ce-3c70-48c1-a3b9-76157e91616b\">\n",
              "    <style>\n",
              "      .colab-df-generate {\n",
              "        background-color: #E8F0FE;\n",
              "        border: none;\n",
              "        border-radius: 50%;\n",
              "        cursor: pointer;\n",
              "        display: none;\n",
              "        fill: #1967D2;\n",
              "        height: 32px;\n",
              "        padding: 0 0 0 0;\n",
              "        width: 32px;\n",
              "      }\n",
              "\n",
              "      .colab-df-generate:hover {\n",
              "        background-color: #E2EBFA;\n",
              "        box-shadow: 0px 1px 2px rgba(60, 64, 67, 0.3), 0px 1px 3px 1px rgba(60, 64, 67, 0.15);\n",
              "        fill: #174EA6;\n",
              "      }\n",
              "\n",
              "      [theme=dark] .colab-df-generate {\n",
              "        background-color: #3B4455;\n",
              "        fill: #D2E3FC;\n",
              "      }\n",
              "\n",
              "      [theme=dark] .colab-df-generate:hover {\n",
              "        background-color: #434B5C;\n",
              "        box-shadow: 0px 1px 3px 1px rgba(0, 0, 0, 0.15);\n",
              "        filter: drop-shadow(0px 1px 2px rgba(0, 0, 0, 0.3));\n",
              "        fill: #FFFFFF;\n",
              "      }\n",
              "    </style>\n",
              "    <button class=\"colab-df-generate\" onclick=\"generateWithVariable('df')\"\n",
              "            title=\"Generate code using this dataframe.\"\n",
              "            style=\"display:none;\">\n",
              "\n",
              "  <svg xmlns=\"http://www.w3.org/2000/svg\" height=\"24px\"viewBox=\"0 0 24 24\"\n",
              "       width=\"24px\">\n",
              "    <path d=\"M7,19H8.4L18.45,9,17,7.55,7,17.6ZM5,21V16.75L18.45,3.32a2,2,0,0,1,2.83,0l1.4,1.43a1.91,1.91,0,0,1,.58,1.4,1.91,1.91,0,0,1-.58,1.4L9.25,21ZM18.45,9,17,7.55Zm-12,3A5.31,5.31,0,0,0,4.9,8.1,5.31,5.31,0,0,0,1,6.5,5.31,5.31,0,0,0,4.9,4.9,5.31,5.31,0,0,0,6.5,1,5.31,5.31,0,0,0,8.1,4.9,5.31,5.31,0,0,0,12,6.5,5.46,5.46,0,0,0,6.5,12Z\"/>\n",
              "  </svg>\n",
              "    </button>\n",
              "    <script>\n",
              "      (() => {\n",
              "      const buttonEl =\n",
              "        document.querySelector('#id_ce25b3ce-3c70-48c1-a3b9-76157e91616b button.colab-df-generate');\n",
              "      buttonEl.style.display =\n",
              "        google.colab.kernel.accessAllowed ? 'block' : 'none';\n",
              "\n",
              "      buttonEl.onclick = () => {\n",
              "        google.colab.notebook.generateWithVariable('df');\n",
              "      }\n",
              "      })();\n",
              "    </script>\n",
              "  </div>\n",
              "\n",
              "    </div>\n",
              "  </div>\n"
            ],
            "application/vnd.google.colaboratory.intrinsic+json": {
              "type": "dataframe",
              "variable_name": "df",
              "repr_error": "'str' object has no attribute 'empty'"
            }
          },
          "metadata": {},
          "execution_count": 41
        },
        {
          "output_type": "stream",
          "name": "stdout",
          "text": [
            "No charts were generated by quickchart\n"
          ]
        }
      ]
    },
    {
      "cell_type": "code",
      "source": [],
      "metadata": {
        "id": "DZtj2W51mZoF"
      },
      "execution_count": null,
      "outputs": []
    }
  ]
}