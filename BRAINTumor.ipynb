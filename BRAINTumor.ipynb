{
  "cells": [
    {
      "cell_type": "code",
      "execution_count": null,
      "metadata": {
        "id": "ufUKXBJR10LY",
        "colab": {
          "base_uri": "https://localhost:8080/"
        },
        "outputId": "0eed28f2-e545-4d27-86c5-20025ca59b9a"
      },
      "outputs": [
        {
          "output_type": "stream",
          "name": "stdout",
          "text": [
            "Found 2405 images belonging to 2 classes.\n",
            "Found 601 images belonging to 2 classes.\n",
            "Found 3006 images belonging to 2 classes.\n"
          ]
        }
      ],
      "source": [
        "import tensorflow as tf\n",
        "from tensorflow import keras\n",
        "from tensorflow.keras import layers\n",
        "from tensorflow.keras.preprocessing.image import ImageDataGenerator\n",
        "IMG_SIZE = 224\n",
        "BATCH_SIZE = 32\n",
        "train_datagen = ImageDataGenerator(rescale=1./255,validation_split=0.2)\n",
        "train_generator = train_datagen.flow_from_directory('/content/drive/MyDrive/Brain_Tumor_Detection/train',\n",
        "target_size=(IMG_SIZE,IMG_SIZE),\n",
        "batch_size=BATCH_SIZE,\n",
        "class_mode='binary',\n",
        "subset='training')\n",
        "val_generator = train_datagen.flow_from_directory('/content/drive/MyDrive/Brain_Tumor_Detection/train',\n",
        "target_size=(IMG_SIZE,IMG_SIZE),\n",
        "batch_size=BATCH_SIZE,\n",
        "class_mode='binary',\n",
        "subset='validation')\n",
        "test_datagen = ImageDataGenerator(rescale=1./255)\n",
        "test_generator = train_datagen.flow_from_directory('/content/drive/MyDrive/Brain_Tumor_Detection/train',\n",
        "target_size=(IMG_SIZE,IMG_SIZE),\n",
        "batch_size=BATCH_SIZE,\n",
        "class_mode='binary')\n",
        "\n",
        "\n"
      ]
    },
    {
      "cell_type": "code",
      "execution_count": null,
      "metadata": {
        "id": "L94ZZdMQ9_tY"
      },
      "outputs": [],
      "source": [
        "#define the model\n",
        "model = keras.Sequential([\n",
        "    layers.Conv2D(32,(3,3),activation='relu',input_shape=(IMG_SIZE,IMG_SIZE,3)),\n",
        "    layers.MaxPooling2D((2,2)),\n",
        "    layers.Conv2D(64,(3,3),activation='relu'),\n",
        "    layers.MaxPooling2D((2,2)),\n",
        "    layers.Conv2D(128,(3,3),activation='relu'),\n",
        "    layers.MaxPooling2D((2,2)),\n",
        "    layers.Flatten(),\n",
        "    layers.Dense(128,activation=\"relu\"),\n",
        "    layers.Dense(1,activation=\"sigmoid\"),\n",
        "])"
      ]
    },
    {
      "cell_type": "code",
      "execution_count": null,
      "metadata": {
        "id": "6YHycqfiFrrS"
      },
      "outputs": [],
      "source": [
        "model.compile(optimizer='adam',loss='binary_crossentropy',metrics=[\"accuracy\"])"
      ]
    },
    {
      "cell_type": "code",
      "execution_count": null,
      "metadata": {
        "colab": {
          "base_uri": "https://localhost:8080/"
        },
        "id": "C6z-JOlZCmmI",
        "outputId": "c8c21f2b-1752-4694-fef2-62b0e71b69bc"
      },
      "outputs": [
        {
          "output_type": "stream",
          "name": "stdout",
          "text": [
            "Epoch 1/5\n",
            "76/76 [==============================] - 300s 4s/step - loss: 0.5088 - accuracy: 0.7775 - val_loss: 0.2800 - val_accuracy: 0.8835\n",
            "Epoch 2/5\n",
            "76/76 [==============================] - 160s 2s/step - loss: 0.2118 - accuracy: 0.9222 - val_loss: 0.1471 - val_accuracy: 0.9534\n",
            "Epoch 3/5\n",
            "76/76 [==============================] - 169s 2s/step - loss: 0.1045 - accuracy: 0.9622 - val_loss: 0.0934 - val_accuracy: 0.9567\n",
            "Epoch 4/5\n",
            "76/76 [==============================] - 160s 2s/step - loss: 0.0421 - accuracy: 0.9888 - val_loss: 0.0258 - val_accuracy: 0.9884\n",
            "Epoch 5/5\n",
            "76/76 [==============================] - 160s 2s/step - loss: 0.0247 - accuracy: 0.9938 - val_loss: 0.0787 - val_accuracy: 0.9734\n"
          ]
        }
      ],
      "source": [
        "history=model.fit(train_generator ,validation_data=val_generator,epochs=5)"
      ]
    },
    {
      "cell_type": "code",
      "execution_count": null,
      "metadata": {
        "id": "hHbanC_FMhED",
        "colab": {
          "base_uri": "https://localhost:8080/"
        },
        "outputId": "5febdb14-f772-4322-947f-173e6cbb53bf"
      },
      "outputs": [
        {
          "output_type": "stream",
          "name": "stderr",
          "text": [
            "/usr/local/lib/python3.10/dist-packages/keras/src/engine/training.py:3103: UserWarning: You are saving your model as an HDF5 file via `model.save()`. This file format is considered legacy. We recommend using instead the native Keras format, e.g. `model.save('my_model.keras')`.\n",
            "  saving_api.save_model(\n"
          ]
        }
      ],
      "source": [
        "model.save(\"model.h5\",'label.txt')"
      ]
    },
    {
      "cell_type": "code",
      "source": [
        "from tensorflow.keras.models import load_model\n",
        "from tensorflow.keras.preprocessing import image\n",
        "import numpy as np\n",
        "#load the saved model\n",
        "model=load_model('/content/model.h5')\n",
        "#load and preprocess the test image\n",
        "test_image_path='/content/drive/MyDrive/Brain_Tumor_Detection/train/yes/y10.jpg'\n",
        "img=image.load_img(test_image_path,target_size=(224,224))\n",
        "img_array=image.img_to_array(img)\n",
        "img_array=np.expand_dims(img_array,axis=0)  #add batch dimesion\n",
        "img_array /=225. #normalize the pixel values\n",
        "#make predictions\n",
        "predicition=model.predict(img_array)\n",
        "#print the prediction\n",
        "if predicition < 0.5:\n",
        "  print(\"predicition: No tumor (Probability:\",predicition[0][0],\")\")\n",
        "else:\n",
        "  print(\"predicition: Tumor prediction (Probability:\",predicition[0][0],\")\")"
      ],
      "metadata": {
        "colab": {
          "base_uri": "https://localhost:8080/"
        },
        "id": "KJuvwxVkC6n-",
        "outputId": "9c702a41-db18-4c3b-a7d4-983458330e6e"
      },
      "execution_count": null,
      "outputs": [
        {
          "output_type": "stream",
          "name": "stdout",
          "text": [
            "1/1 [==============================] - 0s 122ms/step\n",
            "predicition: Tumor prediction (Probability: 0.99589217 )\n"
          ]
        }
      ]
    },
    {
      "cell_type": "code",
      "source": [
        "from tensorflow.keras.models import load_model\n",
        "from tensorflow.keras.preprocessing import image\n",
        "import numpy as np\n",
        "#load the saved model\n",
        "model=load_model('/content/model.h5')\n",
        "#load and preprocess the test image\n",
        "test_image_path='/content/drive/MyDrive/Brain_Tumor_Detection/train/no/No14.jpg'\n",
        "img=image.load_img(test_image_path,target_size=(224,224))\n",
        "img_array=image.img_to_array(img)\n",
        "img_array=np.expand_dims(img_array,axis=0)  #add batch dimesion\n",
        "img_array /=225. #normalize the pixel values\n",
        "#make predictions\n",
        "predicition=model.predict(img_array)\n",
        "#print the prediction\n",
        "if predicition < 0.5:\n",
        "  print(\"predicition: No tumor (Probability:\",predicition[0][0],\")\")\n",
        "else:\n",
        "  print(\"predicition: Tumor prediction (Probability:\",predicition[0][0],\")\")"
      ],
      "metadata": {
        "id": "efH5Lji0m1P8"
      },
      "execution_count": null,
      "outputs": []
    }
  ],
  "metadata": {
    "colab": {
      "provenance": []
    },
    "kernelspec": {
      "display_name": "Python 3",
      "name": "python3"
    },
    "language_info": {
      "name": "python"
    }
  },
  "nbformat": 4,
  "nbformat_minor": 0
}