{
  "nbformat": 4,
  "nbformat_minor": 0,
  "metadata": {
    "colab": {
      "provenance": []
    },
    "kernelspec": {
      "name": "python3",
      "display_name": "Python 3"
    },
    "language_info": {
      "name": "python"
    }
  },
  "cells": [
    {
      "cell_type": "code",
      "execution_count": null,
      "metadata": {
        "id": "bED4VYXIZWgV"
      },
      "outputs": [],
      "source": [
        "import pandas as pd\n",
        "data = {'date':pd.date_range(start='2022-01-01',end='2022-01-10'),'sales':[10,15,12,18,20,25,22,28,30,35]}\n",
        "df = pd.DataFrame(data)\n",
        "df.set_index('date',inplace=True)"
      ]
    },
    {
      "cell_type": "code",
      "source": [
        "rolling_avg = df.rolling(window=30).mean()\n",
        "print(rolling_avg)"
      ],
      "metadata": {
        "colab": {
          "base_uri": "https://localhost:8080/"
        },
        "id": "mpaHqXxoacky",
        "outputId": "6a61540a-2441-454d-9fad-f7928006939f"
      },
      "execution_count": null,
      "outputs": [
        {
          "output_type": "stream",
          "name": "stdout",
          "text": [
            "                           TOTALDEMAND        RRP\n",
            "date                                             \n",
            "2023-01-05 19:05:00-05:00          NaN        NaN\n",
            "2023-01-05 19:10:00-05:00          NaN        NaN\n",
            "2023-01-05 19:15:00-05:00          NaN        NaN\n",
            "2023-01-05 19:20:00-05:00          NaN        NaN\n",
            "2023-01-05 19:25:00-05:00          NaN        NaN\n",
            "...                                ...        ...\n",
            "2023-06-27 19:40:00-04:00  9008.520333  88.263000\n",
            "2023-06-27 19:45:00-04:00  8968.114667  86.940000\n",
            "2023-06-27 19:50:00-04:00  8927.600667  85.969333\n",
            "2023-06-27 19:55:00-04:00  8885.803667  85.045667\n",
            "2023-06-27 20:00:00-04:00  8847.553333  84.075000\n",
            "\n",
            "[7776 rows x 2 columns]\n"
          ]
        },
        {
          "output_type": "stream",
          "name": "stderr",
          "text": [
            "<ipython-input-16-d8089ca73cda>:1: FutureWarning: Dropping of nuisance columns in rolling operations is deprecated; in a future version this will raise TypeError. Select only valid columns before calling the operation. Dropped columns were Index(['PERIODTYPE', 'REGION'], dtype='object')\n",
            "  rolling_avg = df.rolling(window=30).mean()\n"
          ]
        }
      ]
    },
    {
      "cell_type": "code",
      "source": [
        "import pandas as pd\n",
        "data = {'date':pd.date_range(start='2022-01-01',end='2022-01-31',freq='D'),'sales':[10,15,12,18,20,25,22,28,30,35,40,45,50,55,60,65,70,75,80,85,90,95,100,105,110,115,120,125,130,135,140]}\n",
        "df = pd.DataFrame(data)\n",
        "df.set_index('date',inplace=True)\n",
        "monthly_mean = df.resample('M').mean()\n",
        "print(monthly_mean)\n",
        "rolling_avg = df.rolling(window=30).sum()\n",
        "print(rolling_avg)"
      ],
      "metadata": {
        "colab": {
          "base_uri": "https://localhost:8080/"
        },
        "id": "FPFFZP-IarQz",
        "outputId": "6c5f7caf-eefd-4ac2-f04f-1ab23bfa0fdb"
      },
      "execution_count": null,
      "outputs": [
        {
          "output_type": "stream",
          "name": "stdout",
          "text": [
            "                sales\n",
            "date                 \n",
            "2022-01-31  67.903226\n",
            "             sales\n",
            "date              \n",
            "2022-01-01     NaN\n",
            "2022-01-02     NaN\n",
            "2022-01-03     NaN\n",
            "2022-01-04     NaN\n",
            "2022-01-05     NaN\n",
            "2022-01-06     NaN\n",
            "2022-01-07     NaN\n",
            "2022-01-08     NaN\n",
            "2022-01-09     NaN\n",
            "2022-01-10     NaN\n",
            "2022-01-11     NaN\n",
            "2022-01-12     NaN\n",
            "2022-01-13     NaN\n",
            "2022-01-14     NaN\n",
            "2022-01-15     NaN\n",
            "2022-01-16     NaN\n",
            "2022-01-17     NaN\n",
            "2022-01-18     NaN\n",
            "2022-01-19     NaN\n",
            "2022-01-20     NaN\n",
            "2022-01-21     NaN\n",
            "2022-01-22     NaN\n",
            "2022-01-23     NaN\n",
            "2022-01-24     NaN\n",
            "2022-01-25     NaN\n",
            "2022-01-26     NaN\n",
            "2022-01-27     NaN\n",
            "2022-01-28     NaN\n",
            "2022-01-29     NaN\n",
            "2022-01-30  1965.0\n",
            "2022-01-31  2095.0\n"
          ]
        }
      ]
    },
    {
      "cell_type": "code",
      "source": [
        "import pandas as pd\n",
        "import matplotlib.pyplot as plt"
      ],
      "metadata": {
        "id": "a2CE7ps2cMX7"
      },
      "execution_count": null,
      "outputs": []
    },
    {
      "cell_type": "code",
      "source": [
        "df = pd.read_csv('/content/demand_june.csv',parse_dates=['date'],index_col='date')"
      ],
      "metadata": {
        "id": "__CXkjfvc1Fy"
      },
      "execution_count": null,
      "outputs": []
    },
    {
      "cell_type": "code",
      "source": [
        "print(df.head())\n",
        "print(df.describe())\n",
        "df.plot()\n",
        "pit.xlabel('Date')\n",
        "plt.ylabel('Value')\n",
        "plt.title('Time Series Data')\n",
        "plt.show()"
      ],
      "metadata": {
        "colab": {
          "base_uri": "https://localhost:8080/",
          "height": 798
        },
        "id": "ZvE9O-GYdyOU",
        "outputId": "c828a055-e374-41af-ca04-4732482bea53"
      },
      "execution_count": null,
      "outputs": [
        {
          "output_type": "stream",
          "name": "stdout",
          "text": [
            "            sales\n",
            "date             \n",
            "2022-01-01     10\n",
            "2022-01-02     15\n",
            "2022-01-03     12\n",
            "2022-01-04     18\n",
            "2022-01-05     20\n",
            "            sales\n",
            "count   31.000000\n",
            "mean    67.903226\n",
            "std     41.482812\n",
            "min     10.000000\n",
            "25%     29.000000\n",
            "50%     65.000000\n",
            "75%    102.500000\n",
            "max    140.000000\n"
          ]
        },
        {
          "output_type": "display_data",
          "data": {
            "text/plain": [
              "<Figure size 640x480 with 1 Axes>"
            ],
            "image/png": "[encoded data removed]"
          },
          "metadata": {}
        }
      ]
    },
    {
      "cell_type": "code",
      "source": [
        "subset = df['2023-01-01':'2023-12-31']\n",
        "print(subset)\n",
        "subset = df['2023']\n",
        "subset = df['2023-01']\n"
      ],
      "metadata": {
        "colab": {
          "base_uri": "https://localhost:8080/"
        },
        "id": "CLgI0GQ5ffal",
        "outputId": "1881d918-4dfc-4c5f-cbb4-a014358c6131"
      },
      "execution_count": null,
      "outputs": [
        {
          "output_type": "stream",
          "name": "stdout",
          "text": [
            "                    REGION  TOTALDEMAND     RRP PERIODTYPE\n",
            "date                                                      \n",
            "2023-01-06 00:05:00   NSW1      7953.04   90.20      TRADE\n",
            "2023-01-06 00:10:00   NSW1      7967.67   90.20      TRADE\n",
            "2023-01-06 00:15:00   NSW1      7923.89   90.20      TRADE\n",
            "2023-01-06 00:20:00   NSW1      7907.81   90.20      TRADE\n",
            "2023-01-06 00:25:00   NSW1      7855.31   90.20      TRADE\n",
            "...                    ...          ...     ...        ...\n",
            "2023-06-27 23:40:00   NSW1      8536.43  116.99      TRADE\n",
            "2023-06-27 23:45:00   NSW1      8527.02   89.00      TRADE\n",
            "2023-06-27 23:50:00   NSW1      8489.29   88.88      TRADE\n",
            "2023-06-27 23:55:00   NSW1      8358.07   61.74      TRADE\n",
            "2023-06-28 00:00:00   NSW1      8394.93   64.77      TRADE\n",
            "\n",
            "[7776 rows x 4 columns]\n"
          ]
        },
        {
          "output_type": "stream",
          "name": "stderr",
          "text": [
            "<ipython-input-10-cea75c82e455>:1: FutureWarning: Value based partial slicing on non-monotonic DatetimeIndexes with non-existing keys is deprecated and will raise a KeyError in a future Version.\n",
            "  subset = df['2023-01-01':'2023-12-31']\n",
            "<ipython-input-10-cea75c82e455>:3: FutureWarning: Indexing a DataFrame with a datetimelike index using a single string to slice the rows, like `frame[string]`, is deprecated and will be removed in a future version. Use `frame.loc[string]` instead.\n",
            "  subset = df['2023']\n",
            "<ipython-input-10-cea75c82e455>:4: FutureWarning: Indexing a DataFrame with a datetimelike index using a single string to slice the rows, like `frame[string]`, is deprecated and will be removed in a future version. Use `frame.loc[string]` instead.\n",
            "  subset = df['2023-01']\n"
          ]
        }
      ]
    },
    {
      "cell_type": "code",
      "source": [
        "monthly_mean = df.resample('M').mean()\n",
        "print(monthly_mean)"
      ],
      "metadata": {
        "colab": {
          "base_uri": "https://localhost:8080/"
        },
        "id": "xaYcRBFBgVdp",
        "outputId": "7fd29c6a-7907-4216-e169-c00e4761d378"
      },
      "execution_count": null,
      "outputs": [
        {
          "output_type": "stream",
          "name": "stdout",
          "text": [
            "            TOTALDEMAND         RRP\n",
            "date                               \n",
            "2023-01-31  8181.030941  134.705331\n",
            "2023-02-28  8105.185069  143.954965\n",
            "2023-03-31  7405.675451  105.668819\n",
            "2023-04-30  7537.265035   82.831597\n",
            "2023-05-31  8161.201319   86.684653\n",
            "2023-06-30  8660.667659  108.354797\n",
            "2023-07-31  7954.497639   80.499514\n",
            "2023-08-31  8534.194340   99.645938\n",
            "2023-09-30  8167.751979   83.117257\n",
            "2023-10-31  7820.040972   89.920069\n",
            "2023-11-30  7804.284271  105.885694\n",
            "2023-12-31  8087.269236  115.664236\n"
          ]
        },
        {
          "output_type": "stream",
          "name": "stderr",
          "text": [
            "<ipython-input-11-159051e05d1c>:1: FutureWarning: The default value of numeric_only in DataFrameGroupBy.mean is deprecated. In a future version, numeric_only will default to False. Either specify numeric_only or select only columns which should be valid for the function.\n",
            "  monthly_mean = df.resample('M').mean()\n"
          ]
        }
      ]
    },
    {
      "cell_type": "code",
      "source": [
        "rolling_mean = df.rolling(window=30).mean()\n",
        "print(rolling_mean)"
      ],
      "metadata": {
        "colab": {
          "base_uri": "https://localhost:8080/"
        },
        "id": "jD9gTnxAgk4j",
        "outputId": "b53c9d77-9824-495d-ef6b-d24e480ac1c4"
      },
      "execution_count": null,
      "outputs": [
        {
          "output_type": "stream",
          "name": "stdout",
          "text": [
            "                     TOTALDEMAND        RRP\n",
            "date                                       \n",
            "2023-01-06 00:05:00          NaN        NaN\n",
            "2023-01-06 00:10:00          NaN        NaN\n",
            "2023-01-06 00:15:00          NaN        NaN\n",
            "2023-01-06 00:20:00          NaN        NaN\n",
            "2023-01-06 00:25:00          NaN        NaN\n",
            "...                          ...        ...\n",
            "2023-06-27 23:40:00  9008.520333  88.263000\n",
            "2023-06-27 23:45:00  8968.114667  86.940000\n",
            "2023-06-27 23:50:00  8927.600667  85.969333\n",
            "2023-06-27 23:55:00  8885.803667  85.045667\n",
            "2023-06-28 00:00:00  8847.553333  84.075000\n",
            "\n",
            "[7776 rows x 2 columns]\n"
          ]
        },
        {
          "output_type": "stream",
          "name": "stderr",
          "text": [
            "<ipython-input-13-d00d3417acfa>:1: FutureWarning: Dropping of nuisance columns in rolling operations is deprecated; in a future version this will raise TypeError. Select only valid columns before calling the operation. Dropped columns were Index(['PERIODTYPE', 'REGION'], dtype='object')\n",
            "  rolling_mean = df.rolling(window=30).mean()\n"
          ]
        }
      ]
    },
    {
      "cell_type": "code",
      "source": [
        "shifted_forward = df.shift(1)\n",
        "shifted_backward = df.shift(-1)"
      ],
      "metadata": {
        "id": "tZABG-9jhCPH"
      },
      "execution_count": null,
      "outputs": []
    },
    {
      "cell_type": "code",
      "source": [
        "df = df.tz_localize('UTC')\n",
        "print(df)\n",
        "df = df.tz_convert('US/Eastern')\n",
        "print(df)"
      ],
      "metadata": {
        "colab": {
          "base_uri": "https://localhost:8080/"
        },
        "id": "3gbPUt0VhRse",
        "outputId": "af0e9be7-c285-480b-8da5-7f6d3934e9ea"
      },
      "execution_count": null,
      "outputs": [
        {
          "output_type": "stream",
          "name": "stdout",
          "text": [
            "                          REGION  TOTALDEMAND     RRP PERIODTYPE\n",
            "date                                                            \n",
            "2023-01-06 00:05:00+00:00   NSW1      7953.04   90.20      TRADE\n",
            "2023-01-06 00:10:00+00:00   NSW1      7967.67   90.20      TRADE\n",
            "2023-01-06 00:15:00+00:00   NSW1      7923.89   90.20      TRADE\n",
            "2023-01-06 00:20:00+00:00   NSW1      7907.81   90.20      TRADE\n",
            "2023-01-06 00:25:00+00:00   NSW1      7855.31   90.20      TRADE\n",
            "...                          ...          ...     ...        ...\n",
            "2023-06-27 23:40:00+00:00   NSW1      8536.43  116.99      TRADE\n",
            "2023-06-27 23:45:00+00:00   NSW1      8527.02   89.00      TRADE\n",
            "2023-06-27 23:50:00+00:00   NSW1      8489.29   88.88      TRADE\n",
            "2023-06-27 23:55:00+00:00   NSW1      8358.07   61.74      TRADE\n",
            "2023-06-28 00:00:00+00:00   NSW1      8394.93   64.77      TRADE\n",
            "\n",
            "[7776 rows x 4 columns]\n",
            "                          REGION  TOTALDEMAND     RRP PERIODTYPE\n",
            "date                                                            \n",
            "2023-01-05 19:05:00-05:00   NSW1      7953.04   90.20      TRADE\n",
            "2023-01-05 19:10:00-05:00   NSW1      7967.67   90.20      TRADE\n",
            "2023-01-05 19:15:00-05:00   NSW1      7923.89   90.20      TRADE\n",
            "2023-01-05 19:20:00-05:00   NSW1      7907.81   90.20      TRADE\n",
            "2023-01-05 19:25:00-05:00   NSW1      7855.31   90.20      TRADE\n",
            "...                          ...          ...     ...        ...\n",
            "2023-06-27 19:40:00-04:00   NSW1      8536.43  116.99      TRADE\n",
            "2023-06-27 19:45:00-04:00   NSW1      8527.02   89.00      TRADE\n",
            "2023-06-27 19:50:00-04:00   NSW1      8489.29   88.88      TRADE\n",
            "2023-06-27 19:55:00-04:00   NSW1      8358.07   61.74      TRADE\n",
            "2023-06-27 20:00:00-04:00   NSW1      8394.93   64.77      TRADE\n",
            "\n",
            "[7776 rows x 4 columns]\n"
          ]
        }
      ]
    },
    {
      "cell_type": "code",
      "source": [],
      "metadata": {
        "id": "eCQ1K5f6iY7Y"
      },
      "execution_count": null,
      "outputs": []
    }
  ]
}