{
  "nbformat": 4,
  "nbformat_minor": 0,
  "metadata": {
    "colab": {
      "provenance": []
    },
    "kernelspec": {
      "name": "python3",
      "display_name": "Python 3"
    },
    "language_info": {
      "name": "python"
    }
  },
  "cells": [
    {
      "cell_type": "code",
      "execution_count": null,
      "metadata": {
        "colab": {
          "base_uri": "https://localhost:8080/"
        },
        "id": "smg3DfV7bCMF",
        "outputId": "8b9d5bf6-e32f-4999-c495-096c2883ce39"
      },
      "outputs": [
        {
          "output_type": "stream",
          "name": "stdout",
          "text": [
            "Requirement already satisfied: scipy in /usr/local/lib/python3.10/dist-packages (1.11.4)\n",
            "Requirement already satisfied: numpy<1.28.0,>=1.21.6 in /usr/local/lib/python3.10/dist-packages (from scipy) (1.25.2)\n"
          ]
        }
      ],
      "source": [
        "pip install scipy"
      ]
    },
    {
      "cell_type": "code",
      "source": [
        "\n",
        "import scipy\n",
        "from scipy import integrate\n",
        "result,error = integrate.quad(lambda x:x**2,0,1)\n",
        "print(\"Result\",result)\n",
        "print(\"Error\",error)"
      ],
      "metadata": {
        "id": "PAnAYCt-RA99",
        "colab": {
          "base_uri": "https://localhost:8080/"
        },
        "outputId": "873a797b-cedc-43dd-9d41-bed644106ee2"
      },
      "execution_count": 1,
      "outputs": [
        {
          "output_type": "stream",
          "name": "stdout",
          "text": [
            "Result 0.33333333333333337\n",
            "Error 3.700743415417189e-15\n"
          ]
        }
      ]
    },
    {
      "cell_type": "code",
      "source": [
        "import numpy as np\n",
        "from scipy import optimize\n",
        "# Optimization\n",
        "result_optimization = optimize.minimize_scalar(lambda x: x**2 + 3*x + 5)\n",
        "print(\"Optimization Result:\", result_optimization.x)"
      ],
      "metadata": {
        "colab": {
          "base_uri": "https://localhost:8080/"
        },
        "id": "U9YERWND2B7s",
        "outputId": "a1a8beaa-c9be-43e1-fee7-88d1c868495d"
      },
      "execution_count": 2,
      "outputs": [
        {
          "output_type": "stream",
          "name": "stdout",
          "text": [
            "Optimization Result: -1.5000000000000002\n"
          ]
        }
      ]
    },
    {
      "cell_type": "code",
      "source": [
        "square = lambda x: x**2\n",
        "# Using the lambda function\n",
        "result = square(5)\n",
        "print(\"Result:\", result)"
      ],
      "metadata": {
        "colab": {
          "base_uri": "https://localhost:8080/"
        },
        "id": "B5e9bbY12HG_",
        "outputId": "a6acbfd5-b40d-4471-84ee-1a3d084f1157"
      },
      "execution_count": 3,
      "outputs": [
        {
          "output_type": "stream",
          "name": "stdout",
          "text": [
            "Result: 25\n"
          ]
        }
      ]
    },
    {
      "cell_type": "code",
      "source": [
        "import numpy as np\n",
        "from scipy import stats\n",
        "\n",
        "# Sample data (random numbers)\n",
        "np.random.seed(42)  # for reproducibility\n",
        "sample_data = np.random.normal(loc=10, scale=2, size=30)  # sample of 30 observations from a normal distribution with mean 10 and standard deviation 2\n",
        "\n",
        "# Population parameters\n",
        "population_mean = 10  # hypothesized population mean\n",
        "\n",
        "# Perform one-sample t-test\n",
        "t_statistic, p_value = stats.ttest_1samp(sample_data, population_mean)\n",
        "\n",
        "# Interpret the results\n",
        "alpha = 0.05  # significance level\n",
        "print(\"t-statistic:\", t_statistic)\n",
        "print(\"p-value:\", p_value)\n",
        "\n",
        "if p_value < alpha:\n",
        "    print(\"Reject the null hypothesis. There is enough evidence to suggest that the sample mean differs significantly from the population mean.\")\n",
        "else:\n",
        "    print(\"Fail to reject the null hypothesis. There is not enough evidence to suggest that the sample mean differs significantly from the population mean.\")"
      ],
      "metadata": {
        "colab": {
          "base_uri": "https://localhost:8080/"
        },
        "id": "PfV3buu9pmEN",
        "outputId": "2a4d8903-ec5e-44f6-d3aa-99101a69d70a"
      },
      "execution_count": null,
      "outputs": [
        {
          "output_type": "stream",
          "name": "stdout",
          "text": [
            "t-statistic: -1.1450173670383255\n",
            "p-value: 0.2615641461880169\n",
            "Fail to reject the null hypothesis. There is not enough evidence to suggest that the sample mean differs significantly from the population mean.\n"
          ]
        }
      ]
    },
    {
      "cell_type": "code",
      "source": [
        "import pandas as pd\n",
        "np.random.seed(0)\n",
        "data = pd.DataFrame({'Treatment':np.random.choice(['A','B','C'],size=100),\n",
        "                     'Score':np.random.normal(loc=10,scale=2,size=100)})\n",
        "print(data)"
      ],
      "metadata": {
        "id": "Ra19t7gH1WiD"
      },
      "execution_count": null,
      "outputs": []
    },
    {
      "cell_type": "code",
      "source": [
        "mean_score_per_group = data.groupby('Treatment')['Score'].mean()\n",
        "print(mean_score_per_group)"
      ],
      "metadata": {
        "colab": {
          "base_uri": "https://localhost:8080/"
        },
        "id": "a_0v35bQ2mr6",
        "outputId": "3f83a142-d7e5-49bf-afe1-da1e5d4a839e"
      },
      "execution_count": null,
      "outputs": [
        {
          "output_type": "stream",
          "name": "stdout",
          "text": [
            "Treatment\n",
            "A     9.611241\n",
            "B    10.099304\n",
            "C    10.010667\n",
            "Name: Score, dtype: float64\n"
          ]
        }
      ]
    },
    {
      "cell_type": "code",
      "source": [
        "group_A = data[data['Treatment']=='A']['Score']\n",
        "group_B = data[data['Treatment']=='B']['Score']\n",
        "t_stat,p_value = stats.ttest_ind(group_A,group_B)\n",
        "print(\"t-statistic\",t_stat)\n",
        "print(\"p-value\",p_value)"
      ],
      "metadata": {
        "colab": {
          "base_uri": "https://localhost:8080/"
        },
        "id": "Q37WPuN43kwA",
        "outputId": "cfd93b68-14b3-4d22-e79a-e91bf5568265"
      },
      "execution_count": null,
      "outputs": [
        {
          "output_type": "stream",
          "name": "stdout",
          "text": [
            "t-statistic -1.0341676575352792\n",
            "p-value 0.3045674995802033\n"
          ]
        }
      ]
    },
    {
      "cell_type": "code",
      "source": [
        "f_stat,p_value = stats.f_oneway(data[data['Treatment']=='A']['Score'],data[data['Treatment']=='B']['Score'],data[data['Treatment']=='C']['Score'])\n",
        "print(\"F-statistics:\",f_stat)\n",
        "print(\"p-value\",p_value)"
      ],
      "metadata": {
        "colab": {
          "base_uri": "https://localhost:8080/"
        },
        "id": "jv8t7F085rTn",
        "outputId": "63e36032-816a-4603-8615-f5c29c7f0657"
      },
      "execution_count": null,
      "outputs": [
        {
          "output_type": "stream",
          "name": "stdout",
          "text": [
            "F-statistics: 0.6019178068930898\n",
            "p-value 0.5497930622874936\n"
          ]
        }
      ]
    },
    {
      "cell_type": "code",
      "source": [
        "import numpy as np\n",
        "volume_data = np.random.rand(1000000)\n",
        "print(\"Volume of data:\",len(volume_data))\n"
      ],
      "metadata": {
        "colab": {
          "base_uri": "https://localhost:8080/"
        },
        "id": "1jBJrQBBLaQH",
        "outputId": "dd2d8bb0-918a-4b77-e864-c01b3c84a049"
      },
      "execution_count": null,
      "outputs": [
        {
          "output_type": "stream",
          "name": "stdout",
          "text": [
            "Volume of data: 1000000\n"
          ]
        }
      ]
    },
    {
      "cell_type": "code",
      "source": [
        "import time\n",
        "for i in range(10):\n",
        "  velocity_data = np.random.rand()\n",
        "  print(\"Velocity data point:\",velocity_data)\n",
        "  time.sleep(2)"
      ],
      "metadata": {
        "colab": {
          "base_uri": "https://localhost:8080/"
        },
        "id": "3BFIMr1KL1Ar",
        "outputId": "ab906fa0-0910-49e3-d2e6-445fc29705b6"
      },
      "execution_count": null,
      "outputs": [
        {
          "output_type": "stream",
          "name": "stdout",
          "text": [
            "Velocity data point: 0.9531454465218582\n",
            "Velocity data point: 0.7714044124318181\n",
            "Velocity data point: 0.4524734794221106\n",
            "Velocity data point: 0.6313495107787029\n",
            "Velocity data point: 0.08427785154638034\n",
            "Velocity data point: 0.3458610291005262\n",
            "Velocity data point: 0.7870946722044554\n",
            "Velocity data point: 0.930556537149173\n",
            "Velocity data point: 0.6774401747236827\n",
            "Velocity data point: 0.003225938093382563\n"
          ]
        }
      ]
    },
    {
      "cell_type": "code",
      "source": [
        "structured_data = {'id':1,'name':'Ram','age':25}\n",
        "print(structured_data)\n",
        "semi_structured_data = {'person':{'name':'Alice','age':26,'city':'Noida'}}\n",
        "unstructured_data = \"This is a sample text dicument.It can contain any information in free form\""
      ],
      "metadata": {
        "colab": {
          "base_uri": "https://localhost:8080/"
        },
        "id": "S5stF8BKNUYh",
        "outputId": "96a872c5-83e4-4e8a-ac86-9aa3dff5995b"
      },
      "execution_count": null,
      "outputs": [
        {
          "output_type": "stream",
          "name": "stdout",
          "text": [
            "{'id': 1, 'name': 'Ram', 'age': 25}\n"
          ]
        }
      ]
    },
    {
      "cell_type": "code",
      "source": [
        "import random\n",
        "veracity_data = [random.choice([1,2,3,None])for _ in range(20)]\n",
        "print(\"Veracity data:\",veracity_data)"
      ],
      "metadata": {
        "colab": {
          "base_uri": "https://localhost:8080/"
        },
        "id": "VGrODCFAO5kV",
        "outputId": "3ccbbfe2-f03d-4aa4-832b-45ad0591df9f"
      },
      "execution_count": null,
      "outputs": [
        {
          "output_type": "stream",
          "name": "stdout",
          "text": [
            "Veracity data: [2, 1, None, 2, 3, 2, 1, None, 3, 1, 1, None, 1, None, 3, None, 3, 3, None, 1]\n"
          ]
        }
      ]
    }
  ]
}