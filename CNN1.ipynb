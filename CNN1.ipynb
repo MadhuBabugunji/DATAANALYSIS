{
  "cells": [
    {
      "cell_type": "code",
      "execution_count": null,
      "metadata": {
        "id": "lXBzU0BGkPX3"
      },
      "outputs": [],
      "source": [
        "import tensorflow as tf\n",
        "from tensorflow import keras\n",
        "from tensorflow.keras import layers\n",
        "from tensorflow.keras.preprocessing.image import ImageDataGenerator\n",
        "#Define image size and batch size\n",
        "IMG_SIZE=224\n",
        "BATCH_SIZE=32\n"
      ]
    },
    {
      "cell_type": "code",
      "execution_count": null,
      "metadata": {
        "colab": {
          "base_uri": "https://localhost:8080/"
        },
        "id": "Ro-vRm0qkYDf",
        "outputId": "d9ffbcbc-4eb3-4155-ee9a-4250dd480963"
      },
      "outputs": [
        {
          "output_type": "stream",
          "name": "stdout",
          "text": [
            "Found 828 images belonging to 2 classes.\n",
            "Found 207 images belonging to 2 classes.\n",
            "Found 1035 images belonging to 2 classes.\n"
          ]
        }
      ],
      "source": [
        "#define data generators for train,validation and testing\n",
        "train_datagen=ImageDataGenerator(\n",
        "          rescale=1./255,\n",
        "          validation_split=0.2\n",
        ")\n",
        "train_generator=train_datagen.flow_from_directory(\n",
        "                  '/content/drive/MyDrive/DATASET/horse or not/horse-or-human/horse-or-human/train',\n",
        "                      target_size=(IMG_SIZE,IMG_SIZE),\n",
        "                      batch_size=BATCH_SIZE,\n",
        "                      class_mode='binary',\n",
        "                      subset='training'\n",
        ")\n",
        "val_generator=train_datagen.flow_from_directory(\n",
        "                    '/content/drive/MyDrive/DATASET/horse or not/horse-or-human/horse-or-human/train',\n",
        "                      target_size=(IMG_SIZE,IMG_SIZE),\n",
        "                      batch_size=BATCH_SIZE,\n",
        "                      class_mode='binary',\n",
        "                      subset='validation'\n",
        ")\n",
        "test_datagen=ImageDataGenerator(rescale=1./255)\n",
        "test_generator=test_datagen.flow_from_directory(\n",
        "                    '/content/drive/MyDrive/DATASET/horse or not/horse-or-human/horse-or-human/train',\n",
        "                      target_size=(IMG_SIZE,IMG_SIZE),\n",
        "                      batch_size=BATCH_SIZE,\n",
        "                      class_mode='binary'\n",
        ")\n"
      ]
    },
    {
      "cell_type": "code",
      "execution_count": null,
      "metadata": {
        "id": "Wve2cxZRkdp3"
      },
      "outputs": [],
      "source": [
        "#define a model\n",
        "model=keras.Sequential([\n",
        "    layers.Conv2D(32,(3,3),activation='relu',input_shape=(IMG_SIZE,IMG_SIZE,3)),\n",
        "    layers.MaxPooling2D((2,2)),\n",
        "    layers.Conv2D(64,(3,3),activation='relu'),\n",
        "    layers.MaxPooling2D((2,2)),\n",
        "    layers.Conv2D(128,(3,3),activation='relu'),\n",
        "    layers.MaxPooling2D((2,2)),\n",
        "    layers.Flatten(),\n",
        "    layers.Dense(32,activation='relu'),\n",
        "    layers.Dense(1,activation='sigmoid')\n",
        "])\n"
      ]
    },
    {
      "cell_type": "code",
      "execution_count": null,
      "metadata": {
        "id": "AffLChPUkip5"
      },
      "outputs": [],
      "source": [
        "#compiling of model\n",
        "model.compile(optimizer='adam',loss='binary_crossentropy',metrics=['accuracy'])\n"
      ]
    },
    {
      "cell_type": "code",
      "execution_count": null,
      "metadata": {
        "colab": {
          "base_uri": "https://localhost:8080/"
        },
        "id": "jnz7Bhz9Opz6",
        "outputId": "ad4bad2b-4a6f-4d7e-dc56-a3410f45f169"
      },
      "outputs": [
        {
          "output_type": "stream",
          "name": "stdout",
          "text": [
            "Epoch 1/3\n",
            "26/26 [==============================] - 112s 4s/step - loss: 0.0258 - accuracy: 0.9940 - val_loss: 0.1180 - val_accuracy: 0.9469\n",
            "Epoch 2/3\n",
            "26/26 [==============================] - 103s 4s/step - loss: 0.0062 - accuracy: 1.0000 - val_loss: 0.2601 - val_accuracy: 0.8841\n",
            "Epoch 3/3\n",
            "26/26 [==============================] - 106s 4s/step - loss: 0.0020 - accuracy: 1.0000 - val_loss: 0.2418 - val_accuracy: 0.8986\n"
          ]
        }
      ],
      "source": [
        "history=model.fit(train_generator,validation_data=val_generator,epochs=3)"
      ]
    },
    {
      "cell_type": "code",
      "execution_count": null,
      "metadata": {
        "id": "_eksYsUTkxlV",
        "colab": {
          "base_uri": "https://localhost:8080/"
        },
        "outputId": "fc1bd36b-cdd8-46a9-fbe2-3d169fc30de4"
      },
      "outputs": [
        {
          "output_type": "stream",
          "name": "stderr",
          "text": [
            "/usr/local/lib/python3.10/dist-packages/keras/src/engine/training.py:3103: UserWarning: You are saving your model as an HDF5 file via `model.save()`. This file format is considered legacy. We recommend using instead the native Keras format, e.g. `model.save('my_model.keras')`.\n",
            "  saving_api.save_model(\n"
          ]
        }
      ],
      "source": [
        "model.save(\"model.h5\",\"label.txt\")"
      ]
    },
    {
      "cell_type": "code",
      "execution_count": null,
      "metadata": {
        "colab": {
          "base_uri": "https://localhost:8080/"
        },
        "id": "TDOsn3rTlE-A",
        "outputId": "05a79244-eb7b-40c2-f32e-66e85cf00198"
      },
      "outputs": [
        {
          "output_type": "stream",
          "name": "stdout",
          "text": [
            "1/1 [==============================] - 0s 97ms/step\n",
            "Prediciton: horse(Probability: 0.5628663 )\n"
          ]
        }
      ],
      "source": [
        "from tensorflow.keras.models import load_model\n",
        "from tensorflow.keras.preprocessing import image\n",
        "import numpy as np\n",
        "#load saved model\n",
        "model=load_model('/content/model.h5')\n",
        "#load and preprocess the test image\n",
        "test_image_path='/content/drive/MyDrive/DATASET/horse or not/horse-or-human/horse-or-human/train/humans/human01-02.png'\n",
        "img=image.load_img(test_image_path,target_size=(224,224))\n",
        "img_array=image.img_to_array(img)\n",
        "img_array=np.expand_dims(img_array,axis=0) #add batch dimension\n",
        "img_array /=255. # Normalize the pixel values\n",
        "#make prediction\n",
        "prediction=model.predict(img_array)\n",
        "#print the prediction\n",
        "if prediction<0.5:\n",
        "  print(\"Prediciton: human (Probability:\",prediction[0][0],\")\")\n",
        "else:\n",
        "  print(\"Prediciton: horse(Probability:\",prediction[0][0],\")\")\n"
      ]
    }
  ],
  "metadata": {
    "colab": {
      "provenance": []
    },
    "kernelspec": {
      "display_name": "Python 3",
      "name": "python3"
    },
    "language_info": {
      "name": "python"
    }
  },
  "nbformat": 4,
  "nbformat_minor": 0
}